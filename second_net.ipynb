{
 "cells": [
  {
   "cell_type": "markdown",
   "metadata": {},
   "source": [
    "# Increasing a number of hidden layers"
   ]
  },
  {
   "cell_type": "code",
   "execution_count": 1,
   "metadata": {},
   "outputs": [
    {
     "name": "stderr",
     "output_type": "stream",
     "text": [
      "/Users/tari/anaconda3/lib/python3.5/site-packages/h5py/__init__.py:36: FutureWarning: Conversion of the second argument of issubdtype from `float` to `np.floating` is deprecated. In future, it will be treated as `np.float64 == np.dtype(float).type`.\n",
      "  from ._conv import register_converters as _register_converters\n",
      "Using TensorFlow backend.\n"
     ]
    }
   ],
   "source": [
    "import numpy as np\n",
    "import matplotlib.pyplot as plt\n",
    "%matplotlib inline\n",
    "from keras.datasets import mnist\n",
    "from keras.models import Sequential\n",
    "from keras.layers.core import Dense, Activation\n",
    "from keras.optimizers import SGD\n",
    "from keras.utils import to_categorical\n",
    "np.random.seed(1671)"
   ]
  },
  {
   "cell_type": "code",
   "execution_count": 2,
   "metadata": {},
   "outputs": [],
   "source": [
    "NB_EPOCH = 20\n",
    "BATCH_SIZE = 128\n",
    "VERBOSE = 1\n",
    "NB_CLASSES = 10\n",
    "OPTIMIZER = SGD()\n",
    "N_HIDDEN = 128\n",
    "VALIDATION_SPLIT = 0.2"
   ]
  },
  {
   "cell_type": "code",
   "execution_count": 3,
   "metadata": {},
   "outputs": [],
   "source": [
    "(X_train, y_train), (X_test, y_test) = mnist.load_data()"
   ]
  },
  {
   "cell_type": "code",
   "execution_count": 4,
   "metadata": {},
   "outputs": [],
   "source": [
    "RESHAPED = 784"
   ]
  },
  {
   "cell_type": "code",
   "execution_count": 5,
   "metadata": {},
   "outputs": [],
   "source": [
    "X_train = X_train.reshape(60000, RESHAPED)\n",
    "X_test = X_test.reshape(10000, RESHAPED)\n",
    "X_train = X_train.astype('float32')\n",
    "X_test = X_test.astype('float32')"
   ]
  },
  {
   "cell_type": "code",
   "execution_count": 6,
   "metadata": {},
   "outputs": [],
   "source": [
    "X_train /= 255\n",
    "X_test /= 255"
   ]
  },
  {
   "cell_type": "code",
   "execution_count": 7,
   "metadata": {},
   "outputs": [
    {
     "name": "stdout",
     "output_type": "stream",
     "text": [
      "60000  training samples\n",
      "10000  testing samples\n"
     ]
    }
   ],
   "source": [
    "print(X_train.shape[0], ' training samples')\n",
    "print(X_test.shape[0], ' testing samples')"
   ]
  },
  {
   "cell_type": "code",
   "execution_count": 8,
   "metadata": {},
   "outputs": [],
   "source": [
    "y_train = to_categorical(y_train, NB_CLASSES)\n",
    "y_test = to_categorical(y_test, NB_CLASSES)"
   ]
  },
  {
   "cell_type": "code",
   "execution_count": 9,
   "metadata": {},
   "outputs": [
    {
     "name": "stdout",
     "output_type": "stream",
     "text": [
      "_________________________________________________________________\n",
      "Layer (type)                 Output Shape              Param #   \n",
      "=================================================================\n",
      "dense_1 (Dense)              (None, 128)               100480    \n",
      "_________________________________________________________________\n",
      "activation_1 (Activation)    (None, 128)               0         \n",
      "_________________________________________________________________\n",
      "dense_2 (Dense)              (None, 128)               16512     \n",
      "_________________________________________________________________\n",
      "activation_2 (Activation)    (None, 128)               0         \n",
      "_________________________________________________________________\n",
      "dense_3 (Dense)              (None, 10)                1290      \n",
      "_________________________________________________________________\n",
      "activation_3 (Activation)    (None, 10)                0         \n",
      "=================================================================\n",
      "Total params: 118,282\n",
      "Trainable params: 118,282\n",
      "Non-trainable params: 0\n",
      "_________________________________________________________________\n"
     ]
    }
   ],
   "source": [
    "model = Sequential()\n",
    "model.add(Dense(N_HIDDEN, input_shape = (RESHAPED,)))\n",
    "model.add(Activation('relu'))\n",
    "model.add(Dense(N_HIDDEN))\n",
    "model.add(Activation('relu'))\n",
    "model.add(Dense(NB_CLASSES))\n",
    "model.add(Activation('softmax'))\n",
    "model.summary()"
   ]
  },
  {
   "cell_type": "code",
   "execution_count": 10,
   "metadata": {},
   "outputs": [
    {
     "name": "stdout",
     "output_type": "stream",
     "text": [
      "Train on 48000 samples, validate on 12000 samples\n",
      "Epoch 1/20\n",
      "48000/48000 [==============================] - 3s 55us/step - loss: 1.4829 - acc: 0.6231 - val_loss: 0.7584 - val_acc: 0.8286\n",
      "Epoch 2/20\n",
      "48000/48000 [==============================] - 2s 52us/step - loss: 0.6049 - acc: 0.8463 - val_loss: 0.4550 - val_acc: 0.8852\n",
      "Epoch 3/20\n",
      "48000/48000 [==============================] - 2s 51us/step - loss: 0.4398 - acc: 0.8801 - val_loss: 0.3710 - val_acc: 0.9020\n",
      "Epoch 4/20\n",
      "48000/48000 [==============================] - 2s 51us/step - loss: 0.3767 - acc: 0.8952 - val_loss: 0.3322 - val_acc: 0.9081\n",
      "Epoch 5/20\n",
      "48000/48000 [==============================] - 3s 52us/step - loss: 0.3415 - acc: 0.9025 - val_loss: 0.3055 - val_acc: 0.9147\n",
      "Epoch 6/20\n",
      "48000/48000 [==============================] - 2s 51us/step - loss: 0.3175 - acc: 0.9086 - val_loss: 0.2880 - val_acc: 0.9182\n",
      "Epoch 7/20\n",
      "48000/48000 [==============================] - 2s 52us/step - loss: 0.2989 - acc: 0.9137 - val_loss: 0.2727 - val_acc: 0.9224\n",
      "Epoch 8/20\n",
      "48000/48000 [==============================] - 2s 51us/step - loss: 0.2839 - acc: 0.9180 - val_loss: 0.2607 - val_acc: 0.9266\n",
      "Epoch 9/20\n",
      "48000/48000 [==============================] - 2s 51us/step - loss: 0.2714 - acc: 0.9217 - val_loss: 0.2504 - val_acc: 0.9299\n",
      "Epoch 10/20\n",
      "48000/48000 [==============================] - 2s 52us/step - loss: 0.2602 - acc: 0.9253 - val_loss: 0.2430 - val_acc: 0.9308\n",
      "Epoch 11/20\n",
      "48000/48000 [==============================] - 2s 51us/step - loss: 0.2501 - acc: 0.9285 - val_loss: 0.2341 - val_acc: 0.9334\n",
      "Epoch 12/20\n",
      "48000/48000 [==============================] - 2s 52us/step - loss: 0.2409 - acc: 0.9300 - val_loss: 0.2271 - val_acc: 0.9353\n",
      "Epoch 13/20\n",
      "48000/48000 [==============================] - 2s 51us/step - loss: 0.2325 - acc: 0.9333 - val_loss: 0.2227 - val_acc: 0.9366\n",
      "Epoch 14/20\n",
      "48000/48000 [==============================] - 3s 67us/step - loss: 0.2253 - acc: 0.9353 - val_loss: 0.2147 - val_acc: 0.9395\n",
      "Epoch 15/20\n",
      "48000/48000 [==============================] - 3s 57us/step - loss: 0.2181 - acc: 0.9374 - val_loss: 0.2082 - val_acc: 0.9410\n",
      "Epoch 16/20\n",
      "48000/48000 [==============================] - 3s 54us/step - loss: 0.2116 - acc: 0.9393 - val_loss: 0.2030 - val_acc: 0.9431\n",
      "Epoch 17/20\n",
      "48000/48000 [==============================] - 3s 64us/step - loss: 0.2055 - acc: 0.9413 - val_loss: 0.1981 - val_acc: 0.9445\n",
      "Epoch 18/20\n",
      "48000/48000 [==============================] - 4s 79us/step - loss: 0.1996 - acc: 0.9430 - val_loss: 0.1932 - val_acc: 0.9457\n",
      "Epoch 19/20\n",
      "48000/48000 [==============================] - 5s 98us/step - loss: 0.1941 - acc: 0.9432 - val_loss: 0.1894 - val_acc: 0.9469\n",
      "Epoch 20/20\n",
      "48000/48000 [==============================] - 3s 57us/step - loss: 0.1890 - acc: 0.9455 - val_loss: 0.1850 - val_acc: 0.9497\n"
     ]
    }
   ],
   "source": [
    "model.compile(optimizer=OPTIMIZER, loss='categorical_crossentropy', metrics=['accuracy'])\n",
    "history = model.fit(X_train, y_train, batch_size=BATCH_SIZE,\n",
    "                    epochs=NB_EPOCH, verbose=VERBOSE, validation_split=VALIDATION_SPLIT)"
   ]
  },
  {
   "cell_type": "code",
   "execution_count": 11,
   "metadata": {},
   "outputs": [
    {
     "data": {
      "text/plain": [
       "<matplotlib.legend.Legend at 0x11e0a9438>"
      ]
     },
     "execution_count": 11,
     "metadata": {},
     "output_type": "execute_result"
    },
    {
     "data": {
      "image/png": "[encoded data removed]",
      "text/plain": [
       "<matplotlib.figure.Figure at 0x11e09a5c0>"
      ]
     },
     "metadata": {},
     "output_type": "display_data"
    }
   ],
   "source": [
    "plt.figure(figsize=(12,6))\n",
    "plt.plot(history.history['acc'], color = 'red', label = 'Accuracy' )\n",
    "plt.plot(history.history['loss'], color = 'blue', label = 'Loss')\n",
    "plt.legend()"
   ]
  },
  {
   "cell_type": "code",
   "execution_count": 12,
   "metadata": {},
   "outputs": [
    {
     "name": "stdout",
     "output_type": "stream",
     "text": [
      "10000/10000 [==============================] - 1s 64us/step\n",
      "Test score 0.18601375955343247\n",
      "Test accuracy 0.9462\n"
     ]
    }
   ],
   "source": [
    "score = model.evaluate(X_test, y_test, verbose=VERBOSE)\n",
    "print('Test score {}'.format(score[0]))\n",
    "print('Test accuracy {}'.format(score[1]))"
   ]
  },
  {
   "cell_type": "markdown",
   "metadata": {},
   "source": [
    "# Visualization"
   ]
  },
  {
   "cell_type": "code",
   "execution_count": 13,
   "metadata": {},
   "outputs": [
    {
     "data": {
      "image/svg+xml": [
       "<svg height=\"560pt\" viewBox=\"0.00 0.00 316.00 560.00\" width=\"316pt\" xmlns=\"http://www.w3.org/2000/svg\" xmlns:xlink=\"http://www.w3.org/1999/xlink\">\n",
       "<g class=\"graph\" id=\"graph0\" transform=\"scale(1 1) rotate(0) translate(4 556)\">\n",
       "<title>G</title>\n",
       "<polygon fill=\"white\" points=\"-4,4 -4,-556 312,-556 312,4 -4,4\" stroke=\"none\"/>\n",
       "<!-- 4553404768 -->\n",
       "<g class=\"node\" id=\"node1\"><title>4553404768</title>\n",
       "<polygon fill=\"none\" points=\"0,-505 0,-551 308,-551 308,-505 0,-505\" stroke=\"black\"/>\n",
       "<text font-family=\"Times,serif\" font-size=\"14.00\" text-anchor=\"middle\" x=\"84\" y=\"-524.3\">dense_1_input: InputLayer</text>\n",
       "<polyline fill=\"none\" points=\"168,-505 168,-551 \" stroke=\"black\"/>\n",
       "<text font-family=\"Times,serif\" font-size=\"14.00\" text-anchor=\"middle\" x=\"196\" y=\"-535.8\">input:</text>\n",
       "<polyline fill=\"none\" points=\"168,-528 224,-528 \" stroke=\"black\"/>\n",
       "<text font-family=\"Times,serif\" font-size=\"14.00\" text-anchor=\"middle\" x=\"196\" y=\"-512.8\">output:</text>\n",
       "<polyline fill=\"none\" points=\"224,-505 224,-551 \" stroke=\"black\"/>\n",
       "<text font-family=\"Times,serif\" font-size=\"14.00\" text-anchor=\"middle\" x=\"266\" y=\"-535.8\">(None, 784)</text>\n",
       "<polyline fill=\"none\" points=\"224,-528 308,-528 \" stroke=\"black\"/>\n",
       "<text font-family=\"Times,serif\" font-size=\"14.00\" text-anchor=\"middle\" x=\"266\" y=\"-512.8\">(None, 784)</text>\n",
       "</g>\n",
       "<!-- 4553305784 -->\n",
       "<g class=\"node\" id=\"node2\"><title>4553305784</title>\n",
       "<polygon fill=\"none\" points=\"31.5,-421 31.5,-467 276.5,-467 276.5,-421 31.5,-421\" stroke=\"black\"/>\n",
       "<text font-family=\"Times,serif\" font-size=\"14.00\" text-anchor=\"middle\" x=\"84\" y=\"-440.3\">dense_1: Dense</text>\n",
       "<polyline fill=\"none\" points=\"136.5,-421 136.5,-467 \" stroke=\"black\"/>\n",
       "<text font-family=\"Times,serif\" font-size=\"14.00\" text-anchor=\"middle\" x=\"164.5\" y=\"-451.8\">input:</text>\n",
       "<polyline fill=\"none\" points=\"136.5,-444 192.5,-444 \" stroke=\"black\"/>\n",
       "<text font-family=\"Times,serif\" font-size=\"14.00\" text-anchor=\"middle\" x=\"164.5\" y=\"-428.8\">output:</text>\n",
       "<polyline fill=\"none\" points=\"192.5,-421 192.5,-467 \" stroke=\"black\"/>\n",
       "<text font-family=\"Times,serif\" font-size=\"14.00\" text-anchor=\"middle\" x=\"234.5\" y=\"-451.8\">(None, 784)</text>\n",
       "<polyline fill=\"none\" points=\"192.5,-444 276.5,-444 \" stroke=\"black\"/>\n",
       "<text font-family=\"Times,serif\" font-size=\"14.00\" text-anchor=\"middle\" x=\"234.5\" y=\"-428.8\">(None, 128)</text>\n",
       "</g>\n",
       "<!-- 4553404768&#45;&gt;4553305784 -->\n",
       "<g class=\"edge\" id=\"edge1\"><title>4553404768-&gt;4553305784</title>\n",
       "<path d=\"M154,-504.593C154,-496.118 154,-486.297 154,-477.104\" fill=\"none\" stroke=\"black\"/>\n",
       "<polygon fill=\"black\" points=\"157.5,-477.096 154,-467.096 150.5,-477.096 157.5,-477.096\" stroke=\"black\"/>\n",
       "</g>\n",
       "<!-- 4553305896 -->\n",
       "<g class=\"node\" id=\"node3\"><title>4553305896</title>\n",
       "<polygon fill=\"none\" points=\"8,-337 8,-383 300,-383 300,-337 8,-337\" stroke=\"black\"/>\n",
       "<text font-family=\"Times,serif\" font-size=\"14.00\" text-anchor=\"middle\" x=\"84\" y=\"-356.3\">activation_1: Activation</text>\n",
       "<polyline fill=\"none\" points=\"160,-337 160,-383 \" stroke=\"black\"/>\n",
       "<text font-family=\"Times,serif\" font-size=\"14.00\" text-anchor=\"middle\" x=\"188\" y=\"-367.8\">input:</text>\n",
       "<polyline fill=\"none\" points=\"160,-360 216,-360 \" stroke=\"black\"/>\n",
       "<text font-family=\"Times,serif\" font-size=\"14.00\" text-anchor=\"middle\" x=\"188\" y=\"-344.8\">output:</text>\n",
       "<polyline fill=\"none\" points=\"216,-337 216,-383 \" stroke=\"black\"/>\n",
       "<text font-family=\"Times,serif\" font-size=\"14.00\" text-anchor=\"middle\" x=\"258\" y=\"-367.8\">(None, 128)</text>\n",
       "<polyline fill=\"none\" points=\"216,-360 300,-360 \" stroke=\"black\"/>\n",
       "<text font-family=\"Times,serif\" font-size=\"14.00\" text-anchor=\"middle\" x=\"258\" y=\"-344.8\">(None, 128)</text>\n",
       "</g>\n",
       "<!-- 4553305784&#45;&gt;4553305896 -->\n",
       "<g class=\"edge\" id=\"edge2\"><title>4553305784-&gt;4553305896</title>\n",
       "<path d=\"M154,-420.593C154,-412.118 154,-402.297 154,-393.104\" fill=\"none\" stroke=\"black\"/>\n",
       "<polygon fill=\"black\" points=\"157.5,-393.096 154,-383.096 150.5,-393.096 157.5,-393.096\" stroke=\"black\"/>\n",
       "</g>\n",
       "<!-- 4553404880 -->\n",
       "<g class=\"node\" id=\"node4\"><title>4553404880</title>\n",
       "<polygon fill=\"none\" points=\"31.5,-253 31.5,-299 276.5,-299 276.5,-253 31.5,-253\" stroke=\"black\"/>\n",
       "<text font-family=\"Times,serif\" font-size=\"14.00\" text-anchor=\"middle\" x=\"84\" y=\"-272.3\">dense_2: Dense</text>\n",
       "<polyline fill=\"none\" points=\"136.5,-253 136.5,-299 \" stroke=\"black\"/>\n",
       "<text font-family=\"Times,serif\" font-size=\"14.00\" text-anchor=\"middle\" x=\"164.5\" y=\"-283.8\">input:</text>\n",
       "<polyline fill=\"none\" points=\"136.5,-276 192.5,-276 \" stroke=\"black\"/>\n",
       "<text font-family=\"Times,serif\" font-size=\"14.00\" text-anchor=\"middle\" x=\"164.5\" y=\"-260.8\">output:</text>\n",
       "<polyline fill=\"none\" points=\"192.5,-253 192.5,-299 \" stroke=\"black\"/>\n",
       "<text font-family=\"Times,serif\" font-size=\"14.00\" text-anchor=\"middle\" x=\"234.5\" y=\"-283.8\">(None, 128)</text>\n",
       "<polyline fill=\"none\" points=\"192.5,-276 276.5,-276 \" stroke=\"black\"/>\n",
       "<text font-family=\"Times,serif\" font-size=\"14.00\" text-anchor=\"middle\" x=\"234.5\" y=\"-260.8\">(None, 128)</text>\n",
       "</g>\n",
       "<!-- 4553305896&#45;&gt;4553404880 -->\n",
       "<g class=\"edge\" id=\"edge3\"><title>4553305896-&gt;4553404880</title>\n",
       "<path d=\"M154,-336.593C154,-328.118 154,-318.297 154,-309.104\" fill=\"none\" stroke=\"black\"/>\n",
       "<polygon fill=\"black\" points=\"157.5,-309.096 154,-299.096 150.5,-309.096 157.5,-309.096\" stroke=\"black\"/>\n",
       "</g>\n",
       "<!-- 4553406896 -->\n",
       "<g class=\"node\" id=\"node5\"><title>4553406896</title>\n",
       "<polygon fill=\"none\" points=\"8,-169 8,-215 300,-215 300,-169 8,-169\" stroke=\"black\"/>\n",
       "<text font-family=\"Times,serif\" font-size=\"14.00\" text-anchor=\"middle\" x=\"84\" y=\"-188.3\">activation_2: Activation</text>\n",
       "<polyline fill=\"none\" points=\"160,-169 160,-215 \" stroke=\"black\"/>\n",
       "<text font-family=\"Times,serif\" font-size=\"14.00\" text-anchor=\"middle\" x=\"188\" y=\"-199.8\">input:</text>\n",
       "<polyline fill=\"none\" points=\"160,-192 216,-192 \" stroke=\"black\"/>\n",
       "<text font-family=\"Times,serif\" font-size=\"14.00\" text-anchor=\"middle\" x=\"188\" y=\"-176.8\">output:</text>\n",
       "<polyline fill=\"none\" points=\"216,-169 216,-215 \" stroke=\"black\"/>\n",
       "<text font-family=\"Times,serif\" font-size=\"14.00\" text-anchor=\"middle\" x=\"258\" y=\"-199.8\">(None, 128)</text>\n",
       "<polyline fill=\"none\" points=\"216,-192 300,-192 \" stroke=\"black\"/>\n",
       "<text font-family=\"Times,serif\" font-size=\"14.00\" text-anchor=\"middle\" x=\"258\" y=\"-176.8\">(None, 128)</text>\n",
       "</g>\n",
       "<!-- 4553404880&#45;&gt;4553406896 -->\n",
       "<g class=\"edge\" id=\"edge4\"><title>4553404880-&gt;4553406896</title>\n",
       "<path d=\"M154,-252.593C154,-244.118 154,-234.297 154,-225.104\" fill=\"none\" stroke=\"black\"/>\n",
       "<polygon fill=\"black\" points=\"157.5,-225.096 154,-215.096 150.5,-225.096 157.5,-225.096\" stroke=\"black\"/>\n",
       "</g>\n",
       "<!-- 4553476248 -->\n",
       "<g class=\"node\" id=\"node6\"><title>4553476248</title>\n",
       "<polygon fill=\"none\" points=\"31.5,-85 31.5,-131 276.5,-131 276.5,-85 31.5,-85\" stroke=\"black\"/>\n",
       "<text font-family=\"Times,serif\" font-size=\"14.00\" text-anchor=\"middle\" x=\"84\" y=\"-104.3\">dense_3: Dense</text>\n",
       "<polyline fill=\"none\" points=\"136.5,-85 136.5,-131 \" stroke=\"black\"/>\n",
       "<text font-family=\"Times,serif\" font-size=\"14.00\" text-anchor=\"middle\" x=\"164.5\" y=\"-115.8\">input:</text>\n",
       "<polyline fill=\"none\" points=\"136.5,-108 192.5,-108 \" stroke=\"black\"/>\n",
       "<text font-family=\"Times,serif\" font-size=\"14.00\" text-anchor=\"middle\" x=\"164.5\" y=\"-92.8\">output:</text>\n",
       "<polyline fill=\"none\" points=\"192.5,-85 192.5,-131 \" stroke=\"black\"/>\n",
       "<text font-family=\"Times,serif\" font-size=\"14.00\" text-anchor=\"middle\" x=\"234.5\" y=\"-115.8\">(None, 128)</text>\n",
       "<polyline fill=\"none\" points=\"192.5,-108 276.5,-108 \" stroke=\"black\"/>\n",
       "<text font-family=\"Times,serif\" font-size=\"14.00\" text-anchor=\"middle\" x=\"234.5\" y=\"-92.8\">(None, 10)</text>\n",
       "</g>\n",
       "<!-- 4553406896&#45;&gt;4553476248 -->\n",
       "<g class=\"edge\" id=\"edge5\"><title>4553406896-&gt;4553476248</title>\n",
       "<path d=\"M154,-168.593C154,-160.118 154,-150.297 154,-141.104\" fill=\"none\" stroke=\"black\"/>\n",
       "<polygon fill=\"black\" points=\"157.5,-141.096 154,-131.096 150.5,-141.096 157.5,-141.096\" stroke=\"black\"/>\n",
       "</g>\n",
       "<!-- 4553476024 -->\n",
       "<g class=\"node\" id=\"node7\"><title>4553476024</title>\n",
       "<polygon fill=\"none\" points=\"11.5,-1 11.5,-47 296.5,-47 296.5,-1 11.5,-1\" stroke=\"black\"/>\n",
       "<text font-family=\"Times,serif\" font-size=\"14.00\" text-anchor=\"middle\" x=\"87.5\" y=\"-20.3\">activation_3: Activation</text>\n",
       "<polyline fill=\"none\" points=\"163.5,-1 163.5,-47 \" stroke=\"black\"/>\n",
       "<text font-family=\"Times,serif\" font-size=\"14.00\" text-anchor=\"middle\" x=\"191.5\" y=\"-31.8\">input:</text>\n",
       "<polyline fill=\"none\" points=\"163.5,-24 219.5,-24 \" stroke=\"black\"/>\n",
       "<text font-family=\"Times,serif\" font-size=\"14.00\" text-anchor=\"middle\" x=\"191.5\" y=\"-8.8\">output:</text>\n",
       "<polyline fill=\"none\" points=\"219.5,-1 219.5,-47 \" stroke=\"black\"/>\n",
       "<text font-family=\"Times,serif\" font-size=\"14.00\" text-anchor=\"middle\" x=\"258\" y=\"-31.8\">(None, 10)</text>\n",
       "<polyline fill=\"none\" points=\"219.5,-24 296.5,-24 \" stroke=\"black\"/>\n",
       "<text font-family=\"Times,serif\" font-size=\"14.00\" text-anchor=\"middle\" x=\"258\" y=\"-8.8\">(None, 10)</text>\n",
       "</g>\n",
       "<!-- 4553476248&#45;&gt;4553476024 -->\n",
       "<g class=\"edge\" id=\"edge6\"><title>4553476248-&gt;4553476024</title>\n",
       "<path d=\"M154,-84.5931C154,-76.1177 154,-66.2974 154,-57.104\" fill=\"none\" stroke=\"black\"/>\n",
       "<polygon fill=\"black\" points=\"157.5,-57.0958 154,-47.0959 150.5,-57.0959 157.5,-57.0958\" stroke=\"black\"/>\n",
       "</g>\n",
       "</g>\n",
       "</svg>"
      ],
      "text/plain": [
       "<IPython.core.display.SVG object>"
      ]
     },
     "execution_count": 13,
     "metadata": {},
     "output_type": "execute_result"
    }
   ],
   "source": [
    "from IPython.display import SVG\n",
    "from keras.utils.vis_utils import model_to_dot\n",
    "SVG(model_to_dot(model, show_shapes=True, show_layer_names=True).create(prog='dot', format='svg'))"
   ]
  },
  {
   "cell_type": "markdown",
   "metadata": {},
   "source": [
    "# Homework \n",
    "1. Remove one hidden layer\n",
    "2. Add one more hidden layer"
   ]
  },
  {
   "cell_type": "code",
   "execution_count": 14,
   "metadata": {},
   "outputs": [],
   "source": [
    "#Your code here"
   ]
  }
 ],
 "metadata": {
  "kernelspec": {
   "display_name": "Python 3",
   "language": "python",
   "name": "python3"
  },
  "language_info": {
   "codemirror_mode": {
    "name": "ipython",
    "version": 3
   },
   "file_extension": ".py",
   "mimetype": "text/x-python",
   "name": "python",
   "nbconvert_exporter": "python",
   "pygments_lexer": "ipython3",
   "version": "3.5.4"
  }
 },
 "nbformat": 4,
 "nbformat_minor": 2
}
