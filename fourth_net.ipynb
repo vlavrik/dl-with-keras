{
 "cells": [
  {
   "cell_type": "markdown",
   "metadata": {},
   "source": [
    "# Testing different optimizers: RMSprop"
   ]
  },
  {
   "cell_type": "code",
   "execution_count": 1,
   "metadata": {},
   "outputs": [
    {
     "name": "stderr",
     "output_type": "stream",
     "text": [
      "/Users/tari/anaconda3/lib/python3.5/site-packages/h5py/__init__.py:36: FutureWarning: Conversion of the second argument of issubdtype from `float` to `np.floating` is deprecated. In future, it will be treated as `np.float64 == np.dtype(float).type`.\n",
      "  from ._conv import register_converters as _register_converters\n",
      "Using TensorFlow backend.\n"
     ]
    }
   ],
   "source": [
    "import numpy as np\n",
    "import matplotlib.pyplot as plt\n",
    "%matplotlib inline\n",
    "from keras.datasets import mnist\n",
    "from keras.models import Sequential\n",
    "from keras.layers.core import Dense, Activation, Dropout\n",
    "from keras.optimizers import SGD, Adam, RMSprop\n",
    "from keras.utils import to_categorical\n",
    "np.random.seed(1671)"
   ]
  },
  {
   "cell_type": "code",
   "execution_count": 2,
   "metadata": {},
   "outputs": [],
   "source": [
    "NB_EPOCH = 20\n",
    "BATCH_SIZE = 128\n",
    "VERBOSE = 1\n",
    "NB_CLASSES = 10\n",
    "OPTIMIZER = RMSprop()\n",
    "N_HIDDEN = 128\n",
    "VALIDATION_SPLIT = 0.2\n",
    "DROPOUT = 0.3"
   ]
  },
  {
   "cell_type": "code",
   "execution_count": 3,
   "metadata": {},
   "outputs": [],
   "source": [
    "(X_train, y_train), (X_test, y_test) = mnist.load_data()"
   ]
  },
  {
   "cell_type": "code",
   "execution_count": 4,
   "metadata": {},
   "outputs": [],
   "source": [
    "RESHAPED = 784"
   ]
  },
  {
   "cell_type": "code",
   "execution_count": 5,
   "metadata": {},
   "outputs": [],
   "source": [
    "X_train = X_train.reshape(60000, RESHAPED)\n",
    "X_test = X_test.reshape(10000, RESHAPED)\n",
    "X_train = X_train.astype('float32')\n",
    "X_test = X_test.astype('float32')"
   ]
  },
  {
   "cell_type": "code",
   "execution_count": 6,
   "metadata": {},
   "outputs": [],
   "source": [
    "X_train /= 255\n",
    "X_test /= 255"
   ]
  },
  {
   "cell_type": "code",
   "execution_count": 7,
   "metadata": {},
   "outputs": [
    {
     "name": "stdout",
     "output_type": "stream",
     "text": [
      "60000  training samples\n",
      "10000  testing samples\n"
     ]
    }
   ],
   "source": [
    "print(X_train.shape[0], ' training samples')\n",
    "print(X_test.shape[0], ' testing samples')"
   ]
  },
  {
   "cell_type": "code",
   "execution_count": 8,
   "metadata": {},
   "outputs": [],
   "source": [
    "y_train = to_categorical(y_train, NB_CLASSES)\n",
    "y_test = to_categorical(y_test, NB_CLASSES)"
   ]
  },
  {
   "cell_type": "code",
   "execution_count": 21,
   "metadata": {},
   "outputs": [
    {
     "name": "stdout",
     "output_type": "stream",
     "text": [
      "_________________________________________________________________\n",
      "Layer (type)                 Output Shape              Param #   \n",
      "=================================================================\n",
      "dense_4 (Dense)              (None, 128)               100480    \n",
      "_________________________________________________________________\n",
      "activation_4 (Activation)    (None, 128)               0         \n",
      "_________________________________________________________________\n",
      "dropout_3 (Dropout)          (None, 128)               0         \n",
      "_________________________________________________________________\n",
      "dense_5 (Dense)              (None, 128)               16512     \n",
      "_________________________________________________________________\n",
      "activation_5 (Activation)    (None, 128)               0         \n",
      "_________________________________________________________________\n",
      "dropout_4 (Dropout)          (None, 128)               0         \n",
      "_________________________________________________________________\n",
      "dense_6 (Dense)              (None, 10)                1290      \n",
      "_________________________________________________________________\n",
      "activation_6 (Activation)    (None, 10)                0         \n",
      "=================================================================\n",
      "Total params: 118,282\n",
      "Trainable params: 118,282\n",
      "Non-trainable params: 0\n",
      "_________________________________________________________________\n"
     ]
    }
   ],
   "source": [
    "model = Sequential()\n",
    "model.add(Dense(N_HIDDEN, input_shape = (RESHAPED,)))\n",
    "model.add(Activation('relu'))\n",
    "model.add(Dropout(rate=DROPOUT))\n",
    "model.add(Dense(N_HIDDEN))\n",
    "model.add(Activation('relu'))\n",
    "model.add(Dropout(rate=DROPOUT))\n",
    "model.add(Dense(NB_CLASSES))\n",
    "model.add(Activation('softmax'))\n",
    "model.summary()"
   ]
  },
  {
   "cell_type": "code",
   "execution_count": 10,
   "metadata": {},
   "outputs": [
    {
     "name": "stdout",
     "output_type": "stream",
     "text": [
      "Train on 48000 samples, validate on 12000 samples\n",
      "Epoch 1/20\n",
      "48000/48000 [==============================] - 9s 191us/step - loss: 0.4770 - acc: 0.8572 - val_loss: 0.1846 - val_acc: 0.9448\n",
      "Epoch 2/20\n",
      "48000/48000 [==============================] - 10s 202us/step - loss: 0.2265 - acc: 0.9327 - val_loss: 0.1384 - val_acc: 0.9595\n",
      "Epoch 3/20\n",
      "48000/48000 [==============================] - 6s 130us/step - loss: 0.1748 - acc: 0.9475 - val_loss: 0.1194 - val_acc: 0.9663\n",
      "Epoch 4/20\n",
      "48000/48000 [==============================] - 6s 127us/step - loss: 0.1513 - acc: 0.9545 - val_loss: 0.1149 - val_acc: 0.9665\n",
      "Epoch 5/20\n",
      "48000/48000 [==============================] - 8s 158us/step - loss: 0.1344 - acc: 0.9601 - val_loss: 0.1044 - val_acc: 0.9700\n",
      "Epoch 6/20\n",
      "48000/48000 [==============================] - 12s 260us/step - loss: 0.1239 - acc: 0.9625 - val_loss: 0.0989 - val_acc: 0.9719\n",
      "Epoch 7/20\n",
      "48000/48000 [==============================] - 11s 237us/step - loss: 0.1122 - acc: 0.9667 - val_loss: 0.1001 - val_acc: 0.9731\n",
      "Epoch 8/20\n",
      "48000/48000 [==============================] - 8s 159us/step - loss: 0.1068 - acc: 0.9686 - val_loss: 0.1000 - val_acc: 0.9733\n",
      "Epoch 9/20\n",
      "48000/48000 [==============================] - 9s 193us/step - loss: 0.0993 - acc: 0.9703 - val_loss: 0.1003 - val_acc: 0.9743\n",
      "Epoch 10/20\n",
      "48000/48000 [==============================] - 7s 153us/step - loss: 0.0954 - acc: 0.9715 - val_loss: 0.0952 - val_acc: 0.9742\n",
      "Epoch 11/20\n",
      "48000/48000 [==============================] - 7s 147us/step - loss: 0.0896 - acc: 0.9734 - val_loss: 0.0988 - val_acc: 0.9745\n",
      "Epoch 12/20\n",
      "48000/48000 [==============================] - 6s 129us/step - loss: 0.0880 - acc: 0.9742 - val_loss: 0.0968 - val_acc: 0.9748\n",
      "Epoch 13/20\n",
      "48000/48000 [==============================] - 7s 142us/step - loss: 0.0876 - acc: 0.9739 - val_loss: 0.0958 - val_acc: 0.9752\n",
      "Epoch 14/20\n",
      "48000/48000 [==============================] - 7s 150us/step - loss: 0.0814 - acc: 0.9755 - val_loss: 0.1003 - val_acc: 0.9758\n",
      "Epoch 15/20\n",
      "48000/48000 [==============================] - 10s 203us/step - loss: 0.0794 - acc: 0.9767 - val_loss: 0.0980 - val_acc: 0.9771\n",
      "Epoch 16/20\n",
      "48000/48000 [==============================] - 8s 161us/step - loss: 0.0777 - acc: 0.9764 - val_loss: 0.0994 - val_acc: 0.9759\n",
      "Epoch 17/20\n",
      "48000/48000 [==============================] - 8s 165us/step - loss: 0.0755 - acc: 0.9783 - val_loss: 0.1036 - val_acc: 0.9753\n",
      "Epoch 18/20\n",
      "48000/48000 [==============================] - 7s 156us/step - loss: 0.0765 - acc: 0.9775 - val_loss: 0.1032 - val_acc: 0.9762\n",
      "Epoch 19/20\n",
      "48000/48000 [==============================] - 8s 174us/step - loss: 0.0714 - acc: 0.9787 - val_loss: 0.1104 - val_acc: 0.9761\n",
      "Epoch 20/20\n",
      "48000/48000 [==============================] - 9s 192us/step - loss: 0.0696 - acc: 0.9796 - val_loss: 0.1054 - val_acc: 0.9766\n"
     ]
    }
   ],
   "source": [
    "model.compile(optimizer=OPTIMIZER, loss='categorical_crossentropy', metrics=['accuracy'])\n",
    "history = model.fit(X_train, y_train, batch_size=BATCH_SIZE,\n",
    "                    epochs=NB_EPOCH, verbose=VERBOSE, validation_split=VALIDATION_SPLIT)"
   ]
  },
  {
   "cell_type": "code",
   "execution_count": 11,
   "metadata": {},
   "outputs": [
    {
     "data": {
      "text/plain": [
       "<matplotlib.legend.Legend at 0x12cfa1978>"
      ]
     },
     "execution_count": 11,
     "metadata": {},
     "output_type": "execute_result"
    },
    {
     "data": {
      "image/png": "[encoded data removed]",
      "text/plain": [
       "<matplotlib.figure.Figure at 0x12d062ac8>"
      ]
     },
     "metadata": {},
     "output_type": "display_data"
    }
   ],
   "source": [
    "plt.figure(figsize=(12,6))\n",
    "plt.plot(history.history['acc'], color = 'red', label = 'Accuracy' )\n",
    "plt.plot(history.history['loss'], color = 'blue', label = 'Loss')\n",
    "plt.legend()"
   ]
  },
  {
   "cell_type": "code",
   "execution_count": 12,
   "metadata": {},
   "outputs": [
    {
     "name": "stdout",
     "output_type": "stream",
     "text": [
      "10000/10000 [==============================] - 2s 203us/step\n",
      "Test score 0.09446694221262296\n",
      "Test accuracy 0.9783\n"
     ]
    }
   ],
   "source": [
    "score = model.evaluate(X_test, y_test, verbose=VERBOSE)\n",
    "print('Test score {}'.format(score[0]))\n",
    "print('Test accuracy {}'.format(score[1]))"
   ]
  },
  {
   "cell_type": "markdown",
   "metadata": {},
   "source": [
    "## Ploting Loss and Accuracy for train and test"
   ]
  },
  {
   "cell_type": "code",
   "execution_count": 13,
   "metadata": {},
   "outputs": [
    {
     "data": {
      "text/plain": [
       "<matplotlib.legend.Legend at 0x12d18cc50>"
      ]
     },
     "execution_count": 13,
     "metadata": {},
     "output_type": "execute_result"
    },
    {
     "data": {
      "image/png": "[encoded data removed]",
      "text/plain": [
       "<matplotlib.figure.Figure at 0x12cfb19e8>"
      ]
     },
     "metadata": {},
     "output_type": "display_data"
    }
   ],
   "source": [
    "plt.figure(figsize=(12,6))\n",
    "plt.plot(history.history['acc'], color = 'blue', label = 'Train accuracy')\n",
    "plt.plot(history.history['val_acc'], color = 'green', label = 'Test accuracy')\n",
    "plt.xlabel('Epoch number')\n",
    "plt.ylabel('Accuracy')\n",
    "plt.xlim(0,20)\n",
    "plt.title('Dependency between accuracy and epoch number for RMSprop optimizer')\n",
    "plt.grid()\n",
    "plt.legend()"
   ]
  },
  {
   "cell_type": "code",
   "execution_count": 14,
   "metadata": {},
   "outputs": [
    {
     "data": {
      "text/plain": [
       "<matplotlib.legend.Legend at 0x12d314550>"
      ]
     },
     "execution_count": 14,
     "metadata": {},
     "output_type": "execute_result"
    },
    {
     "data": {
      "image/png": "[encoded data removed]",
      "text/plain": [
       "<matplotlib.figure.Figure at 0x12d180518>"
      ]
     },
     "metadata": {},
     "output_type": "display_data"
    }
   ],
   "source": [
    "plt.figure(figsize=(12,6))\n",
    "plt.plot(history.history['loss'], color = 'blue', label = 'Train loss')\n",
    "plt.plot(history.history['val_loss'], color = 'green', label = 'Test loss')\n",
    "plt.xlabel('Epoch number')\n",
    "plt.xlim(0,20)\n",
    "plt.ylabel('Loss')\n",
    "plt.title('Dependency between loss and epoch number for RMSprop optimizer')\n",
    "plt.grid()\n",
    "plt.legend()"
   ]
  },
  {
   "cell_type": "markdown",
   "metadata": {},
   "source": [
    "# Visualization"
   ]
  },
  {
   "cell_type": "code",
   "execution_count": 15,
   "metadata": {},
   "outputs": [
    {
     "data": {
      "image/svg+xml": [
       "<svg height=\"728pt\" viewBox=\"0.00 0.00 316.00 728.00\" width=\"316pt\" xmlns=\"http://www.w3.org/2000/svg\" xmlns:xlink=\"http://www.w3.org/1999/xlink\">\n",
       "<g class=\"graph\" id=\"graph0\" transform=\"scale(1 1) rotate(0) translate(4 724)\">\n",
       "<title>G</title>\n",
       "<polygon fill=\"white\" points=\"-4,4 -4,-724 312,-724 312,4 -4,4\" stroke=\"none\"/>\n",
       "<!-- 4802917264 -->\n",
       "<g class=\"node\" id=\"node1\"><title>4802917264</title>\n",
       "<polygon fill=\"none\" points=\"0,-673 0,-719 308,-719 308,-673 0,-673\" stroke=\"black\"/>\n",
       "<text font-family=\"Times,serif\" font-size=\"14.00\" text-anchor=\"middle\" x=\"84\" y=\"-692.3\">dense_1_input: InputLayer</text>\n",
       "<polyline fill=\"none\" points=\"168,-673 168,-719 \" stroke=\"black\"/>\n",
       "<text font-family=\"Times,serif\" font-size=\"14.00\" text-anchor=\"middle\" x=\"196\" y=\"-703.8\">input:</text>\n",
       "<polyline fill=\"none\" points=\"168,-696 224,-696 \" stroke=\"black\"/>\n",
       "<text font-family=\"Times,serif\" font-size=\"14.00\" text-anchor=\"middle\" x=\"196\" y=\"-680.8\">output:</text>\n",
       "<polyline fill=\"none\" points=\"224,-673 224,-719 \" stroke=\"black\"/>\n",
       "<text font-family=\"Times,serif\" font-size=\"14.00\" text-anchor=\"middle\" x=\"266\" y=\"-703.8\">(None, 784)</text>\n",
       "<polyline fill=\"none\" points=\"224,-696 308,-696 \" stroke=\"black\"/>\n",
       "<text font-family=\"Times,serif\" font-size=\"14.00\" text-anchor=\"middle\" x=\"266\" y=\"-680.8\">(None, 784)</text>\n",
       "</g>\n",
       "<!-- 4802916928 -->\n",
       "<g class=\"node\" id=\"node2\"><title>4802916928</title>\n",
       "<polygon fill=\"none\" points=\"31.5,-589 31.5,-635 276.5,-635 276.5,-589 31.5,-589\" stroke=\"black\"/>\n",
       "<text font-family=\"Times,serif\" font-size=\"14.00\" text-anchor=\"middle\" x=\"84\" y=\"-608.3\">dense_1: Dense</text>\n",
       "<polyline fill=\"none\" points=\"136.5,-589 136.5,-635 \" stroke=\"black\"/>\n",
       "<text font-family=\"Times,serif\" font-size=\"14.00\" text-anchor=\"middle\" x=\"164.5\" y=\"-619.8\">input:</text>\n",
       "<polyline fill=\"none\" points=\"136.5,-612 192.5,-612 \" stroke=\"black\"/>\n",
       "<text font-family=\"Times,serif\" font-size=\"14.00\" text-anchor=\"middle\" x=\"164.5\" y=\"-596.8\">output:</text>\n",
       "<polyline fill=\"none\" points=\"192.5,-589 192.5,-635 \" stroke=\"black\"/>\n",
       "<text font-family=\"Times,serif\" font-size=\"14.00\" text-anchor=\"middle\" x=\"234.5\" y=\"-619.8\">(None, 784)</text>\n",
       "<polyline fill=\"none\" points=\"192.5,-612 276.5,-612 \" stroke=\"black\"/>\n",
       "<text font-family=\"Times,serif\" font-size=\"14.00\" text-anchor=\"middle\" x=\"234.5\" y=\"-596.8\">(None, 128)</text>\n",
       "</g>\n",
       "<!-- 4802917264&#45;&gt;4802916928 -->\n",
       "<g class=\"edge\" id=\"edge1\"><title>4802917264-&gt;4802916928</title>\n",
       "<path d=\"M154,-672.593C154,-664.118 154,-654.297 154,-645.104\" fill=\"none\" stroke=\"black\"/>\n",
       "<polygon fill=\"black\" points=\"157.5,-645.096 154,-635.096 150.5,-645.096 157.5,-645.096\" stroke=\"black\"/>\n",
       "</g>\n",
       "<!-- 4802917040 -->\n",
       "<g class=\"node\" id=\"node3\"><title>4802917040</title>\n",
       "<polygon fill=\"none\" points=\"8,-505 8,-551 300,-551 300,-505 8,-505\" stroke=\"black\"/>\n",
       "<text font-family=\"Times,serif\" font-size=\"14.00\" text-anchor=\"middle\" x=\"84\" y=\"-524.3\">activation_1: Activation</text>\n",
       "<polyline fill=\"none\" points=\"160,-505 160,-551 \" stroke=\"black\"/>\n",
       "<text font-family=\"Times,serif\" font-size=\"14.00\" text-anchor=\"middle\" x=\"188\" y=\"-535.8\">input:</text>\n",
       "<polyline fill=\"none\" points=\"160,-528 216,-528 \" stroke=\"black\"/>\n",
       "<text font-family=\"Times,serif\" font-size=\"14.00\" text-anchor=\"middle\" x=\"188\" y=\"-512.8\">output:</text>\n",
       "<polyline fill=\"none\" points=\"216,-505 216,-551 \" stroke=\"black\"/>\n",
       "<text font-family=\"Times,serif\" font-size=\"14.00\" text-anchor=\"middle\" x=\"258\" y=\"-535.8\">(None, 128)</text>\n",
       "<polyline fill=\"none\" points=\"216,-528 300,-528 \" stroke=\"black\"/>\n",
       "<text font-family=\"Times,serif\" font-size=\"14.00\" text-anchor=\"middle\" x=\"258\" y=\"-512.8\">(None, 128)</text>\n",
       "</g>\n",
       "<!-- 4802916928&#45;&gt;4802917040 -->\n",
       "<g class=\"edge\" id=\"edge2\"><title>4802916928-&gt;4802917040</title>\n",
       "<path d=\"M154,-588.593C154,-580.118 154,-570.297 154,-561.104\" fill=\"none\" stroke=\"black\"/>\n",
       "<polygon fill=\"black\" points=\"157.5,-561.096 154,-551.096 150.5,-561.096 157.5,-561.096\" stroke=\"black\"/>\n",
       "</g>\n",
       "<!-- 4802917544 -->\n",
       "<g class=\"node\" id=\"node4\"><title>4802917544</title>\n",
       "<polygon fill=\"none\" points=\"20,-421 20,-467 288,-467 288,-421 20,-421\" stroke=\"black\"/>\n",
       "<text font-family=\"Times,serif\" font-size=\"14.00\" text-anchor=\"middle\" x=\"84\" y=\"-440.3\">dropout_1: Dropout</text>\n",
       "<polyline fill=\"none\" points=\"148,-421 148,-467 \" stroke=\"black\"/>\n",
       "<text font-family=\"Times,serif\" font-size=\"14.00\" text-anchor=\"middle\" x=\"176\" y=\"-451.8\">input:</text>\n",
       "<polyline fill=\"none\" points=\"148,-444 204,-444 \" stroke=\"black\"/>\n",
       "<text font-family=\"Times,serif\" font-size=\"14.00\" text-anchor=\"middle\" x=\"176\" y=\"-428.8\">output:</text>\n",
       "<polyline fill=\"none\" points=\"204,-421 204,-467 \" stroke=\"black\"/>\n",
       "<text font-family=\"Times,serif\" font-size=\"14.00\" text-anchor=\"middle\" x=\"246\" y=\"-451.8\">(None, 128)</text>\n",
       "<polyline fill=\"none\" points=\"204,-444 288,-444 \" stroke=\"black\"/>\n",
       "<text font-family=\"Times,serif\" font-size=\"14.00\" text-anchor=\"middle\" x=\"246\" y=\"-428.8\">(None, 128)</text>\n",
       "</g>\n",
       "<!-- 4802917040&#45;&gt;4802917544 -->\n",
       "<g class=\"edge\" id=\"edge3\"><title>4802917040-&gt;4802917544</title>\n",
       "<path d=\"M154,-504.593C154,-496.118 154,-486.297 154,-477.104\" fill=\"none\" stroke=\"black\"/>\n",
       "<polygon fill=\"black\" points=\"157.5,-477.096 154,-467.096 150.5,-477.096 157.5,-477.096\" stroke=\"black\"/>\n",
       "</g>\n",
       "<!-- 4802919560 -->\n",
       "<g class=\"node\" id=\"node5\"><title>4802919560</title>\n",
       "<polygon fill=\"none\" points=\"31.5,-337 31.5,-383 276.5,-383 276.5,-337 31.5,-337\" stroke=\"black\"/>\n",
       "<text font-family=\"Times,serif\" font-size=\"14.00\" text-anchor=\"middle\" x=\"84\" y=\"-356.3\">dense_2: Dense</text>\n",
       "<polyline fill=\"none\" points=\"136.5,-337 136.5,-383 \" stroke=\"black\"/>\n",
       "<text font-family=\"Times,serif\" font-size=\"14.00\" text-anchor=\"middle\" x=\"164.5\" y=\"-367.8\">input:</text>\n",
       "<polyline fill=\"none\" points=\"136.5,-360 192.5,-360 \" stroke=\"black\"/>\n",
       "<text font-family=\"Times,serif\" font-size=\"14.00\" text-anchor=\"middle\" x=\"164.5\" y=\"-344.8\">output:</text>\n",
       "<polyline fill=\"none\" points=\"192.5,-337 192.5,-383 \" stroke=\"black\"/>\n",
       "<text font-family=\"Times,serif\" font-size=\"14.00\" text-anchor=\"middle\" x=\"234.5\" y=\"-367.8\">(None, 128)</text>\n",
       "<polyline fill=\"none\" points=\"192.5,-360 276.5,-360 \" stroke=\"black\"/>\n",
       "<text font-family=\"Times,serif\" font-size=\"14.00\" text-anchor=\"middle\" x=\"234.5\" y=\"-344.8\">(None, 128)</text>\n",
       "</g>\n",
       "<!-- 4802917544&#45;&gt;4802919560 -->\n",
       "<g class=\"edge\" id=\"edge4\"><title>4802917544-&gt;4802919560</title>\n",
       "<path d=\"M154,-420.593C154,-412.118 154,-402.297 154,-393.104\" fill=\"none\" stroke=\"black\"/>\n",
       "<polygon fill=\"black\" points=\"157.5,-393.096 154,-383.096 150.5,-393.096 157.5,-393.096\" stroke=\"black\"/>\n",
       "</g>\n",
       "<!-- 4802920232 -->\n",
       "<g class=\"node\" id=\"node6\"><title>4802920232</title>\n",
       "<polygon fill=\"none\" points=\"8,-253 8,-299 300,-299 300,-253 8,-253\" stroke=\"black\"/>\n",
       "<text font-family=\"Times,serif\" font-size=\"14.00\" text-anchor=\"middle\" x=\"84\" y=\"-272.3\">activation_2: Activation</text>\n",
       "<polyline fill=\"none\" points=\"160,-253 160,-299 \" stroke=\"black\"/>\n",
       "<text font-family=\"Times,serif\" font-size=\"14.00\" text-anchor=\"middle\" x=\"188\" y=\"-283.8\">input:</text>\n",
       "<polyline fill=\"none\" points=\"160,-276 216,-276 \" stroke=\"black\"/>\n",
       "<text font-family=\"Times,serif\" font-size=\"14.00\" text-anchor=\"middle\" x=\"188\" y=\"-260.8\">output:</text>\n",
       "<polyline fill=\"none\" points=\"216,-253 216,-299 \" stroke=\"black\"/>\n",
       "<text font-family=\"Times,serif\" font-size=\"14.00\" text-anchor=\"middle\" x=\"258\" y=\"-283.8\">(None, 128)</text>\n",
       "<polyline fill=\"none\" points=\"216,-276 300,-276 \" stroke=\"black\"/>\n",
       "<text font-family=\"Times,serif\" font-size=\"14.00\" text-anchor=\"middle\" x=\"258\" y=\"-260.8\">(None, 128)</text>\n",
       "</g>\n",
       "<!-- 4802919560&#45;&gt;4802920232 -->\n",
       "<g class=\"edge\" id=\"edge5\"><title>4802919560-&gt;4802920232</title>\n",
       "<path d=\"M154,-336.593C154,-328.118 154,-318.297 154,-309.104\" fill=\"none\" stroke=\"black\"/>\n",
       "<polygon fill=\"black\" points=\"157.5,-309.096 154,-299.096 150.5,-309.096 157.5,-309.096\" stroke=\"black\"/>\n",
       "</g>\n",
       "<!-- 4803051304 -->\n",
       "<g class=\"node\" id=\"node7\"><title>4803051304</title>\n",
       "<polygon fill=\"none\" points=\"20,-169 20,-215 288,-215 288,-169 20,-169\" stroke=\"black\"/>\n",
       "<text font-family=\"Times,serif\" font-size=\"14.00\" text-anchor=\"middle\" x=\"84\" y=\"-188.3\">dropout_2: Dropout</text>\n",
       "<polyline fill=\"none\" points=\"148,-169 148,-215 \" stroke=\"black\"/>\n",
       "<text font-family=\"Times,serif\" font-size=\"14.00\" text-anchor=\"middle\" x=\"176\" y=\"-199.8\">input:</text>\n",
       "<polyline fill=\"none\" points=\"148,-192 204,-192 \" stroke=\"black\"/>\n",
       "<text font-family=\"Times,serif\" font-size=\"14.00\" text-anchor=\"middle\" x=\"176\" y=\"-176.8\">output:</text>\n",
       "<polyline fill=\"none\" points=\"204,-169 204,-215 \" stroke=\"black\"/>\n",
       "<text font-family=\"Times,serif\" font-size=\"14.00\" text-anchor=\"middle\" x=\"246\" y=\"-199.8\">(None, 128)</text>\n",
       "<polyline fill=\"none\" points=\"204,-192 288,-192 \" stroke=\"black\"/>\n",
       "<text font-family=\"Times,serif\" font-size=\"14.00\" text-anchor=\"middle\" x=\"246\" y=\"-176.8\">(None, 128)</text>\n",
       "</g>\n",
       "<!-- 4802920232&#45;&gt;4803051304 -->\n",
       "<g class=\"edge\" id=\"edge6\"><title>4802920232-&gt;4803051304</title>\n",
       "<path d=\"M154,-252.593C154,-244.118 154,-234.297 154,-225.104\" fill=\"none\" stroke=\"black\"/>\n",
       "<polygon fill=\"black\" points=\"157.5,-225.096 154,-215.096 150.5,-225.096 157.5,-225.096\" stroke=\"black\"/>\n",
       "</g>\n",
       "<!-- 4802918104 -->\n",
       "<g class=\"node\" id=\"node8\"><title>4802918104</title>\n",
       "<polygon fill=\"none\" points=\"31.5,-85 31.5,-131 276.5,-131 276.5,-85 31.5,-85\" stroke=\"black\"/>\n",
       "<text font-family=\"Times,serif\" font-size=\"14.00\" text-anchor=\"middle\" x=\"84\" y=\"-104.3\">dense_3: Dense</text>\n",
       "<polyline fill=\"none\" points=\"136.5,-85 136.5,-131 \" stroke=\"black\"/>\n",
       "<text font-family=\"Times,serif\" font-size=\"14.00\" text-anchor=\"middle\" x=\"164.5\" y=\"-115.8\">input:</text>\n",
       "<polyline fill=\"none\" points=\"136.5,-108 192.5,-108 \" stroke=\"black\"/>\n",
       "<text font-family=\"Times,serif\" font-size=\"14.00\" text-anchor=\"middle\" x=\"164.5\" y=\"-92.8\">output:</text>\n",
       "<polyline fill=\"none\" points=\"192.5,-85 192.5,-131 \" stroke=\"black\"/>\n",
       "<text font-family=\"Times,serif\" font-size=\"14.00\" text-anchor=\"middle\" x=\"234.5\" y=\"-115.8\">(None, 128)</text>\n",
       "<polyline fill=\"none\" points=\"192.5,-108 276.5,-108 \" stroke=\"black\"/>\n",
       "<text font-family=\"Times,serif\" font-size=\"14.00\" text-anchor=\"middle\" x=\"234.5\" y=\"-92.8\">(None, 10)</text>\n",
       "</g>\n",
       "<!-- 4803051304&#45;&gt;4802918104 -->\n",
       "<g class=\"edge\" id=\"edge7\"><title>4803051304-&gt;4802918104</title>\n",
       "<path d=\"M154,-168.593C154,-160.118 154,-150.297 154,-141.104\" fill=\"none\" stroke=\"black\"/>\n",
       "<polygon fill=\"black\" points=\"157.5,-141.096 154,-131.096 150.5,-141.096 157.5,-141.096\" stroke=\"black\"/>\n",
       "</g>\n",
       "<!-- 4858024904 -->\n",
       "<g class=\"node\" id=\"node9\"><title>4858024904</title>\n",
       "<polygon fill=\"none\" points=\"11.5,-1 11.5,-47 296.5,-47 296.5,-1 11.5,-1\" stroke=\"black\"/>\n",
       "<text font-family=\"Times,serif\" font-size=\"14.00\" text-anchor=\"middle\" x=\"87.5\" y=\"-20.3\">activation_3: Activation</text>\n",
       "<polyline fill=\"none\" points=\"163.5,-1 163.5,-47 \" stroke=\"black\"/>\n",
       "<text font-family=\"Times,serif\" font-size=\"14.00\" text-anchor=\"middle\" x=\"191.5\" y=\"-31.8\">input:</text>\n",
       "<polyline fill=\"none\" points=\"163.5,-24 219.5,-24 \" stroke=\"black\"/>\n",
       "<text font-family=\"Times,serif\" font-size=\"14.00\" text-anchor=\"middle\" x=\"191.5\" y=\"-8.8\">output:</text>\n",
       "<polyline fill=\"none\" points=\"219.5,-1 219.5,-47 \" stroke=\"black\"/>\n",
       "<text font-family=\"Times,serif\" font-size=\"14.00\" text-anchor=\"middle\" x=\"258\" y=\"-31.8\">(None, 10)</text>\n",
       "<polyline fill=\"none\" points=\"219.5,-24 296.5,-24 \" stroke=\"black\"/>\n",
       "<text font-family=\"Times,serif\" font-size=\"14.00\" text-anchor=\"middle\" x=\"258\" y=\"-8.8\">(None, 10)</text>\n",
       "</g>\n",
       "<!-- 4802918104&#45;&gt;4858024904 -->\n",
       "<g class=\"edge\" id=\"edge8\"><title>4802918104-&gt;4858024904</title>\n",
       "<path d=\"M154,-84.5931C154,-76.1177 154,-66.2974 154,-57.104\" fill=\"none\" stroke=\"black\"/>\n",
       "<polygon fill=\"black\" points=\"157.5,-57.0958 154,-47.0959 150.5,-57.0959 157.5,-57.0958\" stroke=\"black\"/>\n",
       "</g>\n",
       "</g>\n",
       "</svg>"
      ],
      "text/plain": [
       "<IPython.core.display.SVG object>"
      ]
     },
     "execution_count": 15,
     "metadata": {},
     "output_type": "execute_result"
    }
   ],
   "source": [
    "from IPython.display import SVG\n",
    "from keras.utils.vis_utils import model_to_dot\n",
    "SVG(model_to_dot(model, show_shapes=True, show_layer_names=True).create(prog='dot', format='svg'))"
   ]
  },
  {
   "cell_type": "code",
   "execution_count": 19,
   "metadata": {},
   "outputs": [],
   "source": [
    "from quiver_engine import server\n",
    "server.launch(model,temp_folder='./', port=9999)"
   ]
  }
 ],
 "metadata": {
  "kernelspec": {
   "display_name": "Python 3",
   "language": "python",
   "name": "python3"
  },
  "language_info": {
   "codemirror_mode": {
    "name": "ipython",
    "version": 3
   },
   "file_extension": ".py",
   "mimetype": "text/x-python",
   "name": "python",
   "nbconvert_exporter": "python",
   "pygments_lexer": "ipython3",
   "version": "3.5.4"
  }
 },
 "nbformat": 4,
 "nbformat_minor": 2
}
