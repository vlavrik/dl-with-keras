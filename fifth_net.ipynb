{
 "cells": [
  {
   "cell_type": "markdown",
   "metadata": {},
   "source": [
    "# Testing different optimizers: Adam"
   ]
  },
  {
   "cell_type": "code",
   "execution_count": 12,
   "metadata": {},
   "outputs": [],
   "source": [
    "import numpy as np\n",
    "import matplotlib.pyplot as plt\n",
    "%matplotlib inline\n",
    "from keras.datasets import mnist\n",
    "from keras.models import Sequential\n",
    "from keras.layers.core import Dense, Activation, Dropout\n",
    "from keras.optimizers import SGD, Adam, RMSprop\n",
    "from keras.utils import to_categorical\n",
    "np.random.seed(1671)"
   ]
  },
  {
   "cell_type": "code",
   "execution_count": 13,
   "metadata": {},
   "outputs": [],
   "source": [
    "NB_EPOCH = 20\n",
    "BATCH_SIZE = 128\n",
    "VERBOSE = 1\n",
    "NB_CLASSES = 10\n",
    "OPTIMIZER = Adam()\n",
    "N_HIDDEN = 128\n",
    "VALIDATION_SPLIT = 0.2\n",
    "DROPOUT = 0.3"
   ]
  },
  {
   "cell_type": "code",
   "execution_count": 14,
   "metadata": {},
   "outputs": [],
   "source": [
    "(X_train, y_train), (X_test, y_test) = mnist.load_data()"
   ]
  },
  {
   "cell_type": "code",
   "execution_count": 15,
   "metadata": {},
   "outputs": [],
   "source": [
    "RESHAPED = 784"
   ]
  },
  {
   "cell_type": "code",
   "execution_count": 16,
   "metadata": {},
   "outputs": [],
   "source": [
    "X_train = X_train.reshape(60000, RESHAPED)\n",
    "X_test = X_test.reshape(10000, RESHAPED)\n",
    "X_train = X_train.astype('float32')\n",
    "X_test = X_test.astype('float32')"
   ]
  },
  {
   "cell_type": "code",
   "execution_count": 17,
   "metadata": {},
   "outputs": [],
   "source": [
    "X_train /= 255\n",
    "X_test /= 255"
   ]
  },
  {
   "cell_type": "code",
   "execution_count": 18,
   "metadata": {},
   "outputs": [
    {
     "name": "stdout",
     "output_type": "stream",
     "text": [
      "60000  training samples\n",
      "10000  testing samples\n"
     ]
    }
   ],
   "source": [
    "print(X_train.shape[0], ' training samples')\n",
    "print(X_test.shape[0], ' testing samples')"
   ]
  },
  {
   "cell_type": "code",
   "execution_count": 19,
   "metadata": {},
   "outputs": [],
   "source": [
    "y_train = to_categorical(y_train, NB_CLASSES)\n",
    "y_test = to_categorical(y_test, NB_CLASSES)"
   ]
  },
  {
   "cell_type": "code",
   "execution_count": 9,
   "metadata": {},
   "outputs": [
    {
     "name": "stdout",
     "output_type": "stream",
     "text": [
      "_________________________________________________________________\n",
      "Layer (type)                 Output Shape              Param #   \n",
      "=================================================================\n",
      "dense_1 (Dense)              (None, 128)               100480    \n",
      "_________________________________________________________________\n",
      "activation_1 (Activation)    (None, 128)               0         \n",
      "_________________________________________________________________\n",
      "dropout_1 (Dropout)          (None, 128)               0         \n",
      "_________________________________________________________________\n",
      "dense_2 (Dense)              (None, 128)               16512     \n",
      "_________________________________________________________________\n",
      "activation_2 (Activation)    (None, 128)               0         \n",
      "_________________________________________________________________\n",
      "dropout_2 (Dropout)          (None, 128)               0         \n",
      "_________________________________________________________________\n",
      "dense_3 (Dense)              (None, 10)                1290      \n",
      "_________________________________________________________________\n",
      "activation_3 (Activation)    (None, 10)                0         \n",
      "=================================================================\n",
      "Total params: 118,282\n",
      "Trainable params: 118,282\n",
      "Non-trainable params: 0\n",
      "_________________________________________________________________\n"
     ]
    }
   ],
   "source": [
    "model = Sequential()\n",
    "model.add(Dense(N_HIDDEN, input_shape = (RESHAPED,)))\n",
    "model.add(Activation('relu'))\n",
    "model.add(Dropout(rate=DROPOUT))\n",
    "model.add(Dense(N_HIDDEN))\n",
    "model.add(Activation('relu'))\n",
    "model.add(Dropout(rate=DROPOUT))\n",
    "model.add(Dense(NB_CLASSES))\n",
    "model.add(Activation('softmax'))\n",
    "model.summary()"
   ]
  },
  {
   "cell_type": "code",
   "execution_count": 10,
   "metadata": {},
   "outputs": [
    {
     "name": "stdout",
     "output_type": "stream",
     "text": [
      "Train on 48000 samples, validate on 12000 samples\n",
      "Epoch 1/20\n",
      "48000/48000 [==============================] - 5s 99us/step - loss: 0.5188 - acc: 0.8430 - val_loss: 0.1871 - val_acc: 0.9437\n",
      "Epoch 2/20\n",
      "48000/48000 [==============================] - 4s 90us/step - loss: 0.2334 - acc: 0.9304 - val_loss: 0.1429 - val_acc: 0.9567\n",
      "Epoch 3/20\n",
      "48000/48000 [==============================] - 4s 80us/step - loss: 0.1810 - acc: 0.9460 - val_loss: 0.1155 - val_acc: 0.9660\n",
      "Epoch 4/20\n",
      "48000/48000 [==============================] - 4s 80us/step - loss: 0.1538 - acc: 0.9538 - val_loss: 0.1063 - val_acc: 0.9701\n",
      "Epoch 5/20\n",
      "48000/48000 [==============================] - 4s 84us/step - loss: 0.1319 - acc: 0.9602 - val_loss: 0.0982 - val_acc: 0.9705\n",
      "Epoch 6/20\n",
      "48000/48000 [==============================] - 4s 80us/step - loss: 0.1195 - acc: 0.9636 - val_loss: 0.0895 - val_acc: 0.9736\n",
      "Epoch 7/20\n",
      "48000/48000 [==============================] - 4s 79us/step - loss: 0.1068 - acc: 0.9669 - val_loss: 0.0893 - val_acc: 0.9727\n",
      "Epoch 8/20\n",
      "48000/48000 [==============================] - 4s 82us/step - loss: 0.0990 - acc: 0.9697 - val_loss: 0.0862 - val_acc: 0.9738\n",
      "Epoch 9/20\n",
      "48000/48000 [==============================] - 4s 86us/step - loss: 0.0910 - acc: 0.9716 - val_loss: 0.0838 - val_acc: 0.9756\n",
      "Epoch 10/20\n",
      "48000/48000 [==============================] - 6s 126us/step - loss: 0.0871 - acc: 0.9725 - val_loss: 0.0791 - val_acc: 0.9772\n",
      "Epoch 11/20\n",
      "48000/48000 [==============================] - 5s 109us/step - loss: 0.0799 - acc: 0.9745 - val_loss: 0.0837 - val_acc: 0.9763\n",
      "Epoch 12/20\n",
      "48000/48000 [==============================] - 4s 83us/step - loss: 0.0775 - acc: 0.9756 - val_loss: 0.0794 - val_acc: 0.9773\n",
      "Epoch 13/20\n",
      "48000/48000 [==============================] - 4s 80us/step - loss: 0.0720 - acc: 0.9770 - val_loss: 0.0814 - val_acc: 0.9761\n",
      "Epoch 14/20\n",
      "48000/48000 [==============================] - 4s 82us/step - loss: 0.0682 - acc: 0.9779 - val_loss: 0.0832 - val_acc: 0.9775\n",
      "Epoch 15/20\n",
      "48000/48000 [==============================] - 4s 88us/step - loss: 0.0693 - acc: 0.9774 - val_loss: 0.0798 - val_acc: 0.9788\n",
      "Epoch 16/20\n",
      "48000/48000 [==============================] - 4s 90us/step - loss: 0.0632 - acc: 0.9795 - val_loss: 0.0818 - val_acc: 0.9768\n",
      "Epoch 17/20\n",
      "48000/48000 [==============================] - 4s 81us/step - loss: 0.0591 - acc: 0.9806 - val_loss: 0.0792 - val_acc: 0.9777\n",
      "Epoch 18/20\n",
      "48000/48000 [==============================] - 5s 99us/step - loss: 0.0579 - acc: 0.9810 - val_loss: 0.0800 - val_acc: 0.9772\n",
      "Epoch 19/20\n",
      "48000/48000 [==============================] - 4s 85us/step - loss: 0.0566 - acc: 0.9819 - val_loss: 0.0863 - val_acc: 0.9771\n",
      "Epoch 20/20\n",
      "48000/48000 [==============================] - 4s 82us/step - loss: 0.0582 - acc: 0.9811 - val_loss: 0.0810 - val_acc: 0.9779\n"
     ]
    }
   ],
   "source": [
    "model.compile(optimizer=OPTIMIZER, loss='categorical_crossentropy', metrics=['accuracy'])\n",
    "history = model.fit(X_train, y_train, batch_size=BATCH_SIZE,\n",
    "                    epochs=NB_EPOCH, verbose=VERBOSE, validation_split=VALIDATION_SPLIT)"
   ]
  },
  {
   "cell_type": "code",
   "execution_count": 11,
   "metadata": {},
   "outputs": [
    {
     "data": {
      "text/plain": [
       "<matplotlib.legend.Legend at 0x11c5e1e80>"
      ]
     },
     "execution_count": 11,
     "metadata": {},
     "output_type": "execute_result"
    },
    {
     "data": {
      "image/png": "[encoded data removed]",
      "text/plain": [
       "<matplotlib.figure.Figure at 0x11c5b0240>"
      ]
     },
     "metadata": {},
     "output_type": "display_data"
    }
   ],
   "source": [
    "plt.figure(figsize=(12,6))\n",
    "plt.plot(history.history['acc'], color = 'red', label = 'Accuracy' )\n",
    "plt.plot(history.history['loss'], color = 'blue', label = 'Loss')\n",
    "plt.legend()"
   ]
  },
  {
   "cell_type": "code",
   "execution_count": 12,
   "metadata": {},
   "outputs": [
    {
     "name": "stdout",
     "output_type": "stream",
     "text": [
      "10000/10000 [==============================] - 1s 80us/step\n",
      "Test score 0.0786067095810111\n",
      "Test accuracy 0.9798\n"
     ]
    }
   ],
   "source": [
    "score = model.evaluate(X_test, y_test, verbose=VERBOSE)\n",
    "print('Test score {}'.format(score[0]))\n",
    "print('Test accuracy {}'.format(score[1]))"
   ]
  },
  {
   "cell_type": "markdown",
   "metadata": {},
   "source": [
    "## Ploting Loss and Accuracy for train and test"
   ]
  },
  {
   "cell_type": "code",
   "execution_count": 16,
   "metadata": {},
   "outputs": [
    {
     "data": {
      "text/plain": [
       "<matplotlib.legend.Legend at 0x11c68dcf8>"
      ]
     },
     "execution_count": 16,
     "metadata": {},
     "output_type": "execute_result"
    },
    {
     "data": {
      "image/png": "[encoded data removed]",
      "text/plain": [
       "<matplotlib.figure.Figure at 0x11c8a7438>"
      ]
     },
     "metadata": {},
     "output_type": "display_data"
    }
   ],
   "source": [
    "plt.figure(figsize=(12,6))\n",
    "plt.plot(history.history['acc'], color = 'blue', label = 'Train accuracy')\n",
    "plt.plot(history.history['val_acc'], color = 'green', label = 'Test accuracy')\n",
    "plt.xlabel('Epoch number')\n",
    "plt.ylabel('Accuracy')\n",
    "plt.xlim(0,20)\n",
    "plt.title('Dependency between accuracy and epoch number for Adam optimizer')\n",
    "plt.grid()\n",
    "plt.legend()"
   ]
  },
  {
   "cell_type": "code",
   "execution_count": 17,
   "metadata": {},
   "outputs": [
    {
     "data": {
      "text/plain": [
       "<matplotlib.legend.Legend at 0x11cdd44a8>"
      ]
     },
     "execution_count": 17,
     "metadata": {},
     "output_type": "execute_result"
    },
    {
     "data": {
      "image/png": "[encoded data removed]",
      "text/plain": [
       "<matplotlib.figure.Figure at 0x11c4476a0>"
      ]
     },
     "metadata": {},
     "output_type": "display_data"
    }
   ],
   "source": [
    "plt.figure(figsize=(12,6))\n",
    "plt.plot(history.history['loss'], color = 'blue', label = 'Train loss')\n",
    "plt.plot(history.history['val_loss'], color = 'green', label = 'Test loss')\n",
    "plt.xlabel('Epoch number')\n",
    "plt.xlim(0,20)\n",
    "plt.ylabel('Loss')\n",
    "plt.title('Dependency between loss and epoch number for Adam optimizer')\n",
    "plt.grid()\n",
    "plt.legend()"
   ]
  },
  {
   "cell_type": "markdown",
   "metadata": {},
   "source": [
    "# Visualization"
   ]
  },
  {
   "cell_type": "code",
   "execution_count": 15,
   "metadata": {},
   "outputs": [
    {
     "data": {
      "image/svg+xml": [
       "<svg height=\"728pt\" viewBox=\"0.00 0.00 316.00 728.00\" width=\"316pt\" xmlns=\"http://www.w3.org/2000/svg\" xmlns:xlink=\"http://www.w3.org/1999/xlink\">\n",
       "<g class=\"graph\" id=\"graph0\" transform=\"scale(1 1) rotate(0) translate(4 724)\">\n",
       "<title>G</title>\n",
       "<polygon fill=\"white\" points=\"-4,4 -4,-724 312,-724 312,4 -4,4\" stroke=\"none\"/>\n",
       "<!-- 4758269904 -->\n",
       "<g class=\"node\" id=\"node1\"><title>4758269904</title>\n",
       "<polygon fill=\"none\" points=\"0,-673 0,-719 308,-719 308,-673 0,-673\" stroke=\"black\"/>\n",
       "<text font-family=\"Times,serif\" font-size=\"14.00\" text-anchor=\"middle\" x=\"84\" y=\"-692.3\">dense_1_input: InputLayer</text>\n",
       "<polyline fill=\"none\" points=\"168,-673 168,-719 \" stroke=\"black\"/>\n",
       "<text font-family=\"Times,serif\" font-size=\"14.00\" text-anchor=\"middle\" x=\"196\" y=\"-703.8\">input:</text>\n",
       "<polyline fill=\"none\" points=\"168,-696 224,-696 \" stroke=\"black\"/>\n",
       "<text font-family=\"Times,serif\" font-size=\"14.00\" text-anchor=\"middle\" x=\"196\" y=\"-680.8\">output:</text>\n",
       "<polyline fill=\"none\" points=\"224,-673 224,-719 \" stroke=\"black\"/>\n",
       "<text font-family=\"Times,serif\" font-size=\"14.00\" text-anchor=\"middle\" x=\"266\" y=\"-703.8\">(None, 784)</text>\n",
       "<polyline fill=\"none\" points=\"224,-696 308,-696 \" stroke=\"black\"/>\n",
       "<text font-family=\"Times,serif\" font-size=\"14.00\" text-anchor=\"middle\" x=\"266\" y=\"-680.8\">(None, 784)</text>\n",
       "</g>\n",
       "<!-- 4758269400 -->\n",
       "<g class=\"node\" id=\"node2\"><title>4758269400</title>\n",
       "<polygon fill=\"none\" points=\"31.5,-589 31.5,-635 276.5,-635 276.5,-589 31.5,-589\" stroke=\"black\"/>\n",
       "<text font-family=\"Times,serif\" font-size=\"14.00\" text-anchor=\"middle\" x=\"84\" y=\"-608.3\">dense_1: Dense</text>\n",
       "<polyline fill=\"none\" points=\"136.5,-589 136.5,-635 \" stroke=\"black\"/>\n",
       "<text font-family=\"Times,serif\" font-size=\"14.00\" text-anchor=\"middle\" x=\"164.5\" y=\"-619.8\">input:</text>\n",
       "<polyline fill=\"none\" points=\"136.5,-612 192.5,-612 \" stroke=\"black\"/>\n",
       "<text font-family=\"Times,serif\" font-size=\"14.00\" text-anchor=\"middle\" x=\"164.5\" y=\"-596.8\">output:</text>\n",
       "<polyline fill=\"none\" points=\"192.5,-589 192.5,-635 \" stroke=\"black\"/>\n",
       "<text font-family=\"Times,serif\" font-size=\"14.00\" text-anchor=\"middle\" x=\"234.5\" y=\"-619.8\">(None, 784)</text>\n",
       "<polyline fill=\"none\" points=\"192.5,-612 276.5,-612 \" stroke=\"black\"/>\n",
       "<text font-family=\"Times,serif\" font-size=\"14.00\" text-anchor=\"middle\" x=\"234.5\" y=\"-596.8\">(None, 128)</text>\n",
       "</g>\n",
       "<!-- 4758269904&#45;&gt;4758269400 -->\n",
       "<g class=\"edge\" id=\"edge1\"><title>4758269904-&gt;4758269400</title>\n",
       "<path d=\"M154,-672.593C154,-664.118 154,-654.297 154,-645.104\" fill=\"none\" stroke=\"black\"/>\n",
       "<polygon fill=\"black\" points=\"157.5,-645.096 154,-635.096 150.5,-645.096 157.5,-645.096\" stroke=\"black\"/>\n",
       "</g>\n",
       "<!-- 4758269512 -->\n",
       "<g class=\"node\" id=\"node3\"><title>4758269512</title>\n",
       "<polygon fill=\"none\" points=\"8,-505 8,-551 300,-551 300,-505 8,-505\" stroke=\"black\"/>\n",
       "<text font-family=\"Times,serif\" font-size=\"14.00\" text-anchor=\"middle\" x=\"84\" y=\"-524.3\">activation_1: Activation</text>\n",
       "<polyline fill=\"none\" points=\"160,-505 160,-551 \" stroke=\"black\"/>\n",
       "<text font-family=\"Times,serif\" font-size=\"14.00\" text-anchor=\"middle\" x=\"188\" y=\"-535.8\">input:</text>\n",
       "<polyline fill=\"none\" points=\"160,-528 216,-528 \" stroke=\"black\"/>\n",
       "<text font-family=\"Times,serif\" font-size=\"14.00\" text-anchor=\"middle\" x=\"188\" y=\"-512.8\">output:</text>\n",
       "<polyline fill=\"none\" points=\"216,-505 216,-551 \" stroke=\"black\"/>\n",
       "<text font-family=\"Times,serif\" font-size=\"14.00\" text-anchor=\"middle\" x=\"258\" y=\"-535.8\">(None, 128)</text>\n",
       "<polyline fill=\"none\" points=\"216,-528 300,-528 \" stroke=\"black\"/>\n",
       "<text font-family=\"Times,serif\" font-size=\"14.00\" text-anchor=\"middle\" x=\"258\" y=\"-512.8\">(None, 128)</text>\n",
       "</g>\n",
       "<!-- 4758269400&#45;&gt;4758269512 -->\n",
       "<g class=\"edge\" id=\"edge2\"><title>4758269400-&gt;4758269512</title>\n",
       "<path d=\"M154,-588.593C154,-580.118 154,-570.297 154,-561.104\" fill=\"none\" stroke=\"black\"/>\n",
       "<polygon fill=\"black\" points=\"157.5,-561.096 154,-551.096 150.5,-561.096 157.5,-561.096\" stroke=\"black\"/>\n",
       "</g>\n",
       "<!-- 4754953832 -->\n",
       "<g class=\"node\" id=\"node4\"><title>4754953832</title>\n",
       "<polygon fill=\"none\" points=\"20,-421 20,-467 288,-467 288,-421 20,-421\" stroke=\"black\"/>\n",
       "<text font-family=\"Times,serif\" font-size=\"14.00\" text-anchor=\"middle\" x=\"84\" y=\"-440.3\">dropout_1: Dropout</text>\n",
       "<polyline fill=\"none\" points=\"148,-421 148,-467 \" stroke=\"black\"/>\n",
       "<text font-family=\"Times,serif\" font-size=\"14.00\" text-anchor=\"middle\" x=\"176\" y=\"-451.8\">input:</text>\n",
       "<polyline fill=\"none\" points=\"148,-444 204,-444 \" stroke=\"black\"/>\n",
       "<text font-family=\"Times,serif\" font-size=\"14.00\" text-anchor=\"middle\" x=\"176\" y=\"-428.8\">output:</text>\n",
       "<polyline fill=\"none\" points=\"204,-421 204,-467 \" stroke=\"black\"/>\n",
       "<text font-family=\"Times,serif\" font-size=\"14.00\" text-anchor=\"middle\" x=\"246\" y=\"-451.8\">(None, 128)</text>\n",
       "<polyline fill=\"none\" points=\"204,-444 288,-444 \" stroke=\"black\"/>\n",
       "<text font-family=\"Times,serif\" font-size=\"14.00\" text-anchor=\"middle\" x=\"246\" y=\"-428.8\">(None, 128)</text>\n",
       "</g>\n",
       "<!-- 4758269512&#45;&gt;4754953832 -->\n",
       "<g class=\"edge\" id=\"edge3\"><title>4758269512-&gt;4754953832</title>\n",
       "<path d=\"M154,-504.593C154,-496.118 154,-486.297 154,-477.104\" fill=\"none\" stroke=\"black\"/>\n",
       "<polygon fill=\"black\" points=\"157.5,-477.096 154,-467.096 150.5,-477.096 157.5,-477.096\" stroke=\"black\"/>\n",
       "</g>\n",
       "<!-- 4754953496 -->\n",
       "<g class=\"node\" id=\"node5\"><title>4754953496</title>\n",
       "<polygon fill=\"none\" points=\"31.5,-337 31.5,-383 276.5,-383 276.5,-337 31.5,-337\" stroke=\"black\"/>\n",
       "<text font-family=\"Times,serif\" font-size=\"14.00\" text-anchor=\"middle\" x=\"84\" y=\"-356.3\">dense_2: Dense</text>\n",
       "<polyline fill=\"none\" points=\"136.5,-337 136.5,-383 \" stroke=\"black\"/>\n",
       "<text font-family=\"Times,serif\" font-size=\"14.00\" text-anchor=\"middle\" x=\"164.5\" y=\"-367.8\">input:</text>\n",
       "<polyline fill=\"none\" points=\"136.5,-360 192.5,-360 \" stroke=\"black\"/>\n",
       "<text font-family=\"Times,serif\" font-size=\"14.00\" text-anchor=\"middle\" x=\"164.5\" y=\"-344.8\">output:</text>\n",
       "<polyline fill=\"none\" points=\"192.5,-337 192.5,-383 \" stroke=\"black\"/>\n",
       "<text font-family=\"Times,serif\" font-size=\"14.00\" text-anchor=\"middle\" x=\"234.5\" y=\"-367.8\">(None, 128)</text>\n",
       "<polyline fill=\"none\" points=\"192.5,-360 276.5,-360 \" stroke=\"black\"/>\n",
       "<text font-family=\"Times,serif\" font-size=\"14.00\" text-anchor=\"middle\" x=\"234.5\" y=\"-344.8\">(None, 128)</text>\n",
       "</g>\n",
       "<!-- 4754953832&#45;&gt;4754953496 -->\n",
       "<g class=\"edge\" id=\"edge4\"><title>4754953832-&gt;4754953496</title>\n",
       "<path d=\"M154,-420.593C154,-412.118 154,-402.297 154,-393.104\" fill=\"none\" stroke=\"black\"/>\n",
       "<polygon fill=\"black\" points=\"157.5,-393.096 154,-383.096 150.5,-393.096 157.5,-393.096\" stroke=\"black\"/>\n",
       "</g>\n",
       "<!-- 4755325000 -->\n",
       "<g class=\"node\" id=\"node6\"><title>4755325000</title>\n",
       "<polygon fill=\"none\" points=\"8,-253 8,-299 300,-299 300,-253 8,-253\" stroke=\"black\"/>\n",
       "<text font-family=\"Times,serif\" font-size=\"14.00\" text-anchor=\"middle\" x=\"84\" y=\"-272.3\">activation_2: Activation</text>\n",
       "<polyline fill=\"none\" points=\"160,-253 160,-299 \" stroke=\"black\"/>\n",
       "<text font-family=\"Times,serif\" font-size=\"14.00\" text-anchor=\"middle\" x=\"188\" y=\"-283.8\">input:</text>\n",
       "<polyline fill=\"none\" points=\"160,-276 216,-276 \" stroke=\"black\"/>\n",
       "<text font-family=\"Times,serif\" font-size=\"14.00\" text-anchor=\"middle\" x=\"188\" y=\"-260.8\">output:</text>\n",
       "<polyline fill=\"none\" points=\"216,-253 216,-299 \" stroke=\"black\"/>\n",
       "<text font-family=\"Times,serif\" font-size=\"14.00\" text-anchor=\"middle\" x=\"258\" y=\"-283.8\">(None, 128)</text>\n",
       "<polyline fill=\"none\" points=\"216,-276 300,-276 \" stroke=\"black\"/>\n",
       "<text font-family=\"Times,serif\" font-size=\"14.00\" text-anchor=\"middle\" x=\"258\" y=\"-260.8\">(None, 128)</text>\n",
       "</g>\n",
       "<!-- 4754953496&#45;&gt;4755325000 -->\n",
       "<g class=\"edge\" id=\"edge5\"><title>4754953496-&gt;4755325000</title>\n",
       "<path d=\"M154,-336.593C154,-328.118 154,-318.297 154,-309.104\" fill=\"none\" stroke=\"black\"/>\n",
       "<polygon fill=\"black\" points=\"157.5,-309.096 154,-299.096 150.5,-309.096 157.5,-309.096\" stroke=\"black\"/>\n",
       "</g>\n",
       "<!-- 4754931272 -->\n",
       "<g class=\"node\" id=\"node7\"><title>4754931272</title>\n",
       "<polygon fill=\"none\" points=\"20,-169 20,-215 288,-215 288,-169 20,-169\" stroke=\"black\"/>\n",
       "<text font-family=\"Times,serif\" font-size=\"14.00\" text-anchor=\"middle\" x=\"84\" y=\"-188.3\">dropout_2: Dropout</text>\n",
       "<polyline fill=\"none\" points=\"148,-169 148,-215 \" stroke=\"black\"/>\n",
       "<text font-family=\"Times,serif\" font-size=\"14.00\" text-anchor=\"middle\" x=\"176\" y=\"-199.8\">input:</text>\n",
       "<polyline fill=\"none\" points=\"148,-192 204,-192 \" stroke=\"black\"/>\n",
       "<text font-family=\"Times,serif\" font-size=\"14.00\" text-anchor=\"middle\" x=\"176\" y=\"-176.8\">output:</text>\n",
       "<polyline fill=\"none\" points=\"204,-169 204,-215 \" stroke=\"black\"/>\n",
       "<text font-family=\"Times,serif\" font-size=\"14.00\" text-anchor=\"middle\" x=\"246\" y=\"-199.8\">(None, 128)</text>\n",
       "<polyline fill=\"none\" points=\"204,-192 288,-192 \" stroke=\"black\"/>\n",
       "<text font-family=\"Times,serif\" font-size=\"14.00\" text-anchor=\"middle\" x=\"246\" y=\"-176.8\">(None, 128)</text>\n",
       "</g>\n",
       "<!-- 4755325000&#45;&gt;4754931272 -->\n",
       "<g class=\"edge\" id=\"edge6\"><title>4755325000-&gt;4754931272</title>\n",
       "<path d=\"M154,-252.593C154,-244.118 154,-234.297 154,-225.104\" fill=\"none\" stroke=\"black\"/>\n",
       "<polygon fill=\"black\" points=\"157.5,-225.096 154,-215.096 150.5,-225.096 157.5,-225.096\" stroke=\"black\"/>\n",
       "</g>\n",
       "<!-- 4754953888 -->\n",
       "<g class=\"node\" id=\"node8\"><title>4754953888</title>\n",
       "<polygon fill=\"none\" points=\"31.5,-85 31.5,-131 276.5,-131 276.5,-85 31.5,-85\" stroke=\"black\"/>\n",
       "<text font-family=\"Times,serif\" font-size=\"14.00\" text-anchor=\"middle\" x=\"84\" y=\"-104.3\">dense_3: Dense</text>\n",
       "<polyline fill=\"none\" points=\"136.5,-85 136.5,-131 \" stroke=\"black\"/>\n",
       "<text font-family=\"Times,serif\" font-size=\"14.00\" text-anchor=\"middle\" x=\"164.5\" y=\"-115.8\">input:</text>\n",
       "<polyline fill=\"none\" points=\"136.5,-108 192.5,-108 \" stroke=\"black\"/>\n",
       "<text font-family=\"Times,serif\" font-size=\"14.00\" text-anchor=\"middle\" x=\"164.5\" y=\"-92.8\">output:</text>\n",
       "<polyline fill=\"none\" points=\"192.5,-85 192.5,-131 \" stroke=\"black\"/>\n",
       "<text font-family=\"Times,serif\" font-size=\"14.00\" text-anchor=\"middle\" x=\"234.5\" y=\"-115.8\">(None, 128)</text>\n",
       "<polyline fill=\"none\" points=\"192.5,-108 276.5,-108 \" stroke=\"black\"/>\n",
       "<text font-family=\"Times,serif\" font-size=\"14.00\" text-anchor=\"middle\" x=\"234.5\" y=\"-92.8\">(None, 10)</text>\n",
       "</g>\n",
       "<!-- 4754931272&#45;&gt;4754953888 -->\n",
       "<g class=\"edge\" id=\"edge7\"><title>4754931272-&gt;4754953888</title>\n",
       "<path d=\"M154,-168.593C154,-160.118 154,-150.297 154,-141.104\" fill=\"none\" stroke=\"black\"/>\n",
       "<polygon fill=\"black\" points=\"157.5,-141.096 154,-131.096 150.5,-141.096 157.5,-141.096\" stroke=\"black\"/>\n",
       "</g>\n",
       "<!-- 4754824384 -->\n",
       "<g class=\"node\" id=\"node9\"><title>4754824384</title>\n",
       "<polygon fill=\"none\" points=\"11.5,-1 11.5,-47 296.5,-47 296.5,-1 11.5,-1\" stroke=\"black\"/>\n",
       "<text font-family=\"Times,serif\" font-size=\"14.00\" text-anchor=\"middle\" x=\"87.5\" y=\"-20.3\">activation_3: Activation</text>\n",
       "<polyline fill=\"none\" points=\"163.5,-1 163.5,-47 \" stroke=\"black\"/>\n",
       "<text font-family=\"Times,serif\" font-size=\"14.00\" text-anchor=\"middle\" x=\"191.5\" y=\"-31.8\">input:</text>\n",
       "<polyline fill=\"none\" points=\"163.5,-24 219.5,-24 \" stroke=\"black\"/>\n",
       "<text font-family=\"Times,serif\" font-size=\"14.00\" text-anchor=\"middle\" x=\"191.5\" y=\"-8.8\">output:</text>\n",
       "<polyline fill=\"none\" points=\"219.5,-1 219.5,-47 \" stroke=\"black\"/>\n",
       "<text font-family=\"Times,serif\" font-size=\"14.00\" text-anchor=\"middle\" x=\"258\" y=\"-31.8\">(None, 10)</text>\n",
       "<polyline fill=\"none\" points=\"219.5,-24 296.5,-24 \" stroke=\"black\"/>\n",
       "<text font-family=\"Times,serif\" font-size=\"14.00\" text-anchor=\"middle\" x=\"258\" y=\"-8.8\">(None, 10)</text>\n",
       "</g>\n",
       "<!-- 4754953888&#45;&gt;4754824384 -->\n",
       "<g class=\"edge\" id=\"edge8\"><title>4754953888-&gt;4754824384</title>\n",
       "<path d=\"M154,-84.5931C154,-76.1177 154,-66.2974 154,-57.104\" fill=\"none\" stroke=\"black\"/>\n",
       "<polygon fill=\"black\" points=\"157.5,-57.0958 154,-47.0959 150.5,-57.0959 157.5,-57.0958\" stroke=\"black\"/>\n",
       "</g>\n",
       "</g>\n",
       "</svg>"
      ],
      "text/plain": [
       "<IPython.core.display.SVG object>"
      ]
     },
     "execution_count": 15,
     "metadata": {},
     "output_type": "execute_result"
    }
   ],
   "source": [
    "from IPython.display import SVG\n",
    "from keras.utils.vis_utils import model_to_dot\n",
    "SVG(model_to_dot(model, show_shapes=True, show_layer_names=True).create(prog='dot', format='svg'))"
   ]
  },
  {
   "cell_type": "markdown",
   "metadata": {},
   "source": [
    "# Dependency between dropout rate and final score"
   ]
  },
  {
   "cell_type": "code",
   "execution_count": 32,
   "metadata": {},
   "outputs": [],
   "source": [
    "dropouts = [0.01, 0.1, 0.2, 0.3, 0.4, 0.5, 0.6, 0.7, 0.8, 0.9, 0.99]\n",
    "# 0. < self.rate < 1."
   ]
  },
  {
   "cell_type": "code",
   "execution_count": 33,
   "metadata": {
    "scrolled": false
   },
   "outputs": [
    {
     "name": "stdout",
     "output_type": "stream",
     "text": [
      "Dropout rate 0.01\n",
      "Train on 48000 samples, validate on 12000 samples\n",
      "Epoch 1/20\n",
      "48000/48000 [==============================] - 7s 140us/step - loss: 0.2396 - acc: 0.9268 - val_loss: 0.1226 - val_acc: 0.9623\n",
      "Epoch 2/20\n",
      "48000/48000 [==============================] - 4s 88us/step - loss: 0.0964 - acc: 0.9705 - val_loss: 0.1000 - val_acc: 0.9682\n",
      "Epoch 3/20\n",
      "48000/48000 [==============================] - 5s 103us/step - loss: 0.0690 - acc: 0.9796 - val_loss: 0.0969 - val_acc: 0.9707\n",
      "Epoch 4/20\n",
      "48000/48000 [==============================] - 4s 90us/step - loss: 0.0498 - acc: 0.9842 - val_loss: 0.0897 - val_acc: 0.9733\n",
      "Epoch 5/20\n",
      "48000/48000 [==============================] - 4s 87us/step - loss: 0.0387 - acc: 0.9879 - val_loss: 0.0874 - val_acc: 0.9740\n",
      "Epoch 6/20\n",
      "48000/48000 [==============================] - 4s 88us/step - loss: 0.0302 - acc: 0.9910 - val_loss: 0.0920 - val_acc: 0.9728\n",
      "Epoch 7/20\n",
      "48000/48000 [==============================] - 4s 87us/step - loss: 0.0231 - acc: 0.9927 - val_loss: 0.0899 - val_acc: 0.9747\n",
      "Epoch 8/20\n",
      "48000/48000 [==============================] - 4s 88us/step - loss: 0.0183 - acc: 0.9945 - val_loss: 0.0926 - val_acc: 0.9747\n",
      "Epoch 9/20\n",
      "48000/48000 [==============================] - 4s 88us/step - loss: 0.0151 - acc: 0.9955 - val_loss: 0.0927 - val_acc: 0.9764\n",
      "Epoch 10/20\n",
      "48000/48000 [==============================] - 4s 87us/step - loss: 0.0138 - acc: 0.9960 - val_loss: 0.0973 - val_acc: 0.9752\n",
      "Epoch 11/20\n",
      "48000/48000 [==============================] - 4s 89us/step - loss: 0.0135 - acc: 0.9957 - val_loss: 0.1051 - val_acc: 0.9749\n",
      "Epoch 12/20\n",
      "48000/48000 [==============================] - 4s 88us/step - loss: 0.0113 - acc: 0.9965 - val_loss: 0.0996 - val_acc: 0.9759\n",
      "Epoch 13/20\n",
      "48000/48000 [==============================] - 4s 88us/step - loss: 0.0087 - acc: 0.9971 - val_loss: 0.1102 - val_acc: 0.9751\n",
      "Epoch 14/20\n",
      "48000/48000 [==============================] - 4s 90us/step - loss: 0.0097 - acc: 0.9966 - val_loss: 0.1070 - val_acc: 0.9768\n",
      "Epoch 15/20\n",
      "48000/48000 [==============================] - 4s 89us/step - loss: 0.0093 - acc: 0.9969 - val_loss: 0.1076 - val_acc: 0.9768\n",
      "Epoch 16/20\n",
      "48000/48000 [==============================] - 4s 89us/step - loss: 0.0073 - acc: 0.9980 - val_loss: 0.1003 - val_acc: 0.9783\n",
      "Epoch 17/20\n",
      "48000/48000 [==============================] - 4s 90us/step - loss: 0.0060 - acc: 0.9982 - val_loss: 0.1172 - val_acc: 0.9760\n",
      "Epoch 18/20\n",
      "48000/48000 [==============================] - 4s 89us/step - loss: 0.0110 - acc: 0.9964 - val_loss: 0.1087 - val_acc: 0.9770\n",
      "Epoch 19/20\n",
      "48000/48000 [==============================] - 4s 90us/step - loss: 0.0071 - acc: 0.9978 - val_loss: 0.1104 - val_acc: 0.9775\n",
      "Epoch 20/20\n",
      "48000/48000 [==============================] - 4s 91us/step - loss: 0.0057 - acc: 0.9981 - val_loss: 0.1155 - val_acc: 0.9762\n",
      "10000/10000 [==============================] - 1s 86us/step\n",
      "Test score 0.1169204790327446\n",
      "Test accuracy 0.9754\n",
      "\n",
      "\n",
      "Dropout rate 0.1\n",
      "Train on 48000 samples, validate on 12000 samples\n",
      "Epoch 1/20\n",
      "48000/48000 [==============================] - 6s 124us/step - loss: 0.2684 - acc: 0.9183 - val_loss: 0.1293 - val_acc: 0.9606\n",
      "Epoch 2/20\n",
      "48000/48000 [==============================] - 4s 93us/step - loss: 0.1227 - acc: 0.9625 - val_loss: 0.1030 - val_acc: 0.9702\n",
      "Epoch 3/20\n",
      "48000/48000 [==============================] - 4s 93us/step - loss: 0.0899 - acc: 0.9718 - val_loss: 0.0939 - val_acc: 0.9722\n",
      "Epoch 4/20\n",
      "48000/48000 [==============================] - 5s 94us/step - loss: 0.0734 - acc: 0.9770 - val_loss: 0.0862 - val_acc: 0.9733\n",
      "Epoch 5/20\n",
      "48000/48000 [==============================] - 4s 92us/step - loss: 0.0623 - acc: 0.9801 - val_loss: 0.0916 - val_acc: 0.9741\n",
      "Epoch 6/20\n",
      "48000/48000 [==============================] - 4s 93us/step - loss: 0.0537 - acc: 0.9827 - val_loss: 0.0872 - val_acc: 0.9745\n",
      "Epoch 7/20\n",
      "48000/48000 [==============================] - 4s 93us/step - loss: 0.0472 - acc: 0.9850 - val_loss: 0.0853 - val_acc: 0.9771\n",
      "Epoch 8/20\n",
      "48000/48000 [==============================] - 5s 94us/step - loss: 0.0438 - acc: 0.9859 - val_loss: 0.0854 - val_acc: 0.9779\n",
      "Epoch 9/20\n",
      "48000/48000 [==============================] - 4s 93us/step - loss: 0.0377 - acc: 0.9879 - val_loss: 0.0846 - val_acc: 0.9778\n",
      "Epoch 10/20\n",
      "48000/48000 [==============================] - 5s 96us/step - loss: 0.0338 - acc: 0.9887 - val_loss: 0.0873 - val_acc: 0.9757\n",
      "Epoch 11/20\n",
      "48000/48000 [==============================] - 4s 93us/step - loss: 0.0316 - acc: 0.9893 - val_loss: 0.0840 - val_acc: 0.9778\n",
      "Epoch 12/20\n",
      "48000/48000 [==============================] - 4s 93us/step - loss: 0.0275 - acc: 0.9910 - val_loss: 0.0880 - val_acc: 0.9770\n",
      "Epoch 13/20\n",
      "48000/48000 [==============================] - 5s 95us/step - loss: 0.0274 - acc: 0.9908 - val_loss: 0.0856 - val_acc: 0.9786\n",
      "Epoch 14/20\n",
      "48000/48000 [==============================] - 5s 94us/step - loss: 0.0249 - acc: 0.9919 - val_loss: 0.0951 - val_acc: 0.9777\n",
      "Epoch 15/20\n",
      "48000/48000 [==============================] - 4s 93us/step - loss: 0.0222 - acc: 0.9929 - val_loss: 0.0889 - val_acc: 0.9772\n",
      "Epoch 16/20\n",
      "48000/48000 [==============================] - 4s 93us/step - loss: 0.0205 - acc: 0.9928 - val_loss: 0.0924 - val_acc: 0.9776\n",
      "Epoch 17/20\n",
      "48000/48000 [==============================] - 5s 96us/step - loss: 0.0212 - acc: 0.9928 - val_loss: 0.0991 - val_acc: 0.9791\n",
      "Epoch 18/20\n",
      "48000/48000 [==============================] - 4s 93us/step - loss: 0.0183 - acc: 0.9936 - val_loss: 0.1000 - val_acc: 0.9772\n",
      "Epoch 19/20\n",
      "48000/48000 [==============================] - 6s 122us/step - loss: 0.0184 - acc: 0.9937 - val_loss: 0.0944 - val_acc: 0.9792\n",
      "Epoch 20/20\n",
      "48000/48000 [==============================] - 5s 97us/step - loss: 0.0187 - acc: 0.9935 - val_loss: 0.0953 - val_acc: 0.9780\n",
      "10000/10000 [==============================] - 1s 87us/step\n",
      "Test score 0.08035418604208971\n",
      "Test accuracy 0.9789\n",
      "\n",
      "\n",
      "Dropout rate 0.2\n",
      "Train on 48000 samples, validate on 12000 samples\n",
      "Epoch 1/20\n",
      "48000/48000 [==============================] - 7s 137us/step - loss: 0.2988 - acc: 0.9086 - val_loss: 0.1222 - val_acc: 0.9642\n",
      "Epoch 2/20\n",
      "48000/48000 [==============================] - 5s 110us/step - loss: 0.1470 - acc: 0.9554 - val_loss: 0.1020 - val_acc: 0.9693\n",
      "Epoch 3/20\n",
      "48000/48000 [==============================] - 6s 126us/step - loss: 0.1169 - acc: 0.9638 - val_loss: 0.0933 - val_acc: 0.9703\n",
      "Epoch 4/20\n",
      "48000/48000 [==============================] - 6s 115us/step - loss: 0.0982 - acc: 0.9700 - val_loss: 0.0880 - val_acc: 0.9746\n",
      "Epoch 5/20\n",
      "48000/48000 [==============================] - 5s 108us/step - loss: 0.0848 - acc: 0.9730 - val_loss: 0.0843 - val_acc: 0.9748\n",
      "Epoch 6/20\n",
      "48000/48000 [==============================] - 5s 107us/step - loss: 0.0740 - acc: 0.9761 - val_loss: 0.0855 - val_acc: 0.9755\n",
      "Epoch 7/20\n",
      "48000/48000 [==============================] - 5s 110us/step - loss: 0.0670 - acc: 0.9789 - val_loss: 0.0811 - val_acc: 0.9763\n",
      "Epoch 8/20\n",
      "48000/48000 [==============================] - 5s 113us/step - loss: 0.0627 - acc: 0.9801 - val_loss: 0.0768 - val_acc: 0.9776\n",
      "Epoch 9/20\n",
      "48000/48000 [==============================] - 5s 110us/step - loss: 0.0586 - acc: 0.9812 - val_loss: 0.0830 - val_acc: 0.9775\n",
      "Epoch 10/20\n",
      "48000/48000 [==============================] - 6s 122us/step - loss: 0.0525 - acc: 0.9835 - val_loss: 0.0801 - val_acc: 0.9786\n",
      "Epoch 11/20\n",
      "48000/48000 [==============================] - 5s 113us/step - loss: 0.0510 - acc: 0.9835 - val_loss: 0.0775 - val_acc: 0.9781\n",
      "Epoch 12/20\n",
      "48000/48000 [==============================] - 5s 113us/step - loss: 0.0465 - acc: 0.9851 - val_loss: 0.0822 - val_acc: 0.9773\n",
      "Epoch 13/20\n",
      "48000/48000 [==============================] - 5s 113us/step - loss: 0.0439 - acc: 0.9858 - val_loss: 0.0787 - val_acc: 0.9784\n",
      "Epoch 14/20\n",
      "48000/48000 [==============================] - 5s 111us/step - loss: 0.0428 - acc: 0.9855 - val_loss: 0.0736 - val_acc: 0.9798\n",
      "Epoch 15/20\n",
      "48000/48000 [==============================] - 5s 113us/step - loss: 0.0395 - acc: 0.9869 - val_loss: 0.0805 - val_acc: 0.9793\n",
      "Epoch 16/20\n",
      "48000/48000 [==============================] - 5s 113us/step - loss: 0.0396 - acc: 0.9867 - val_loss: 0.0807 - val_acc: 0.9787\n",
      "Epoch 17/20\n"
     ]
    },
    {
     "name": "stdout",
     "output_type": "stream",
     "text": [
      "48000/48000 [==============================] - 5s 96us/step - loss: 0.0368 - acc: 0.9876 - val_loss: 0.0834 - val_acc: 0.9781\n",
      "Epoch 18/20\n",
      "48000/48000 [==============================] - 5s 96us/step - loss: 0.0356 - acc: 0.9884 - val_loss: 0.0840 - val_acc: 0.9790\n",
      "Epoch 19/20\n",
      "48000/48000 [==============================] - 5s 98us/step - loss: 0.0342 - acc: 0.9883 - val_loss: 0.0843 - val_acc: 0.9786\n",
      "Epoch 20/20\n",
      "48000/48000 [==============================] - 5s 96us/step - loss: 0.0304 - acc: 0.9902 - val_loss: 0.0899 - val_acc: 0.9776\n",
      "10000/10000 [==============================] - 1s 75us/step\n",
      "Test score 0.09143365745045376\n",
      "Test accuracy 0.9784\n",
      "\n",
      "\n",
      "Dropout rate 0.3\n",
      "Train on 48000 samples, validate on 12000 samples\n",
      "Epoch 1/20\n",
      "48000/48000 [==============================] - 6s 127us/step - loss: 0.3474 - acc: 0.8930 - val_loss: 0.1406 - val_acc: 0.9592\n",
      "Epoch 2/20\n",
      "48000/48000 [==============================] - 5s 98us/step - loss: 0.1893 - acc: 0.9442 - val_loss: 0.1221 - val_acc: 0.9640\n",
      "Epoch 3/20\n",
      "48000/48000 [==============================] - 5s 98us/step - loss: 0.1548 - acc: 0.9536 - val_loss: 0.1056 - val_acc: 0.9695\n",
      "Epoch 4/20\n",
      "48000/48000 [==============================] - 5s 101us/step - loss: 0.1317 - acc: 0.9617 - val_loss: 0.0980 - val_acc: 0.9703\n",
      "Epoch 5/20\n",
      "48000/48000 [==============================] - 5s 102us/step - loss: 0.1184 - acc: 0.9637 - val_loss: 0.0964 - val_acc: 0.9711\n",
      "Epoch 6/20\n",
      "48000/48000 [==============================] - 5s 99us/step - loss: 0.1111 - acc: 0.9655 - val_loss: 0.0913 - val_acc: 0.9737\n",
      "Epoch 7/20\n",
      "48000/48000 [==============================] - 5s 100us/step - loss: 0.1015 - acc: 0.9686 - val_loss: 0.0892 - val_acc: 0.9738\n",
      "Epoch 8/20\n",
      "48000/48000 [==============================] - 5s 103us/step - loss: 0.0942 - acc: 0.9703 - val_loss: 0.0853 - val_acc: 0.9740\n",
      "Epoch 9/20\n",
      "48000/48000 [==============================] - 5s 100us/step - loss: 0.0902 - acc: 0.9722 - val_loss: 0.0831 - val_acc: 0.9749\n",
      "Epoch 10/20\n",
      "48000/48000 [==============================] - 5s 98us/step - loss: 0.0825 - acc: 0.9739 - val_loss: 0.0847 - val_acc: 0.9753\n",
      "Epoch 11/20\n",
      "48000/48000 [==============================] - 5s 103us/step - loss: 0.0801 - acc: 0.9747 - val_loss: 0.0837 - val_acc: 0.9766\n",
      "Epoch 12/20\n",
      "48000/48000 [==============================] - 5s 100us/step - loss: 0.0752 - acc: 0.9755 - val_loss: 0.0796 - val_acc: 0.9762\n",
      "Epoch 13/20\n",
      "48000/48000 [==============================] - 5s 100us/step - loss: 0.0733 - acc: 0.9769 - val_loss: 0.0786 - val_acc: 0.9777\n",
      "Epoch 14/20\n",
      "48000/48000 [==============================] - 5s 100us/step - loss: 0.0682 - acc: 0.9778 - val_loss: 0.0815 - val_acc: 0.9770\n",
      "Epoch 15/20\n",
      "48000/48000 [==============================] - 5s 99us/step - loss: 0.0687 - acc: 0.9774 - val_loss: 0.0824 - val_acc: 0.9769\n",
      "Epoch 16/20\n",
      "48000/48000 [==============================] - 5s 101us/step - loss: 0.0658 - acc: 0.9786 - val_loss: 0.0878 - val_acc: 0.9759\n",
      "Epoch 17/20\n",
      "48000/48000 [==============================] - 5s 101us/step - loss: 0.0628 - acc: 0.9807 - val_loss: 0.0813 - val_acc: 0.9776\n",
      "Epoch 18/20\n",
      "48000/48000 [==============================] - 5s 101us/step - loss: 0.0600 - acc: 0.9810 - val_loss: 0.0811 - val_acc: 0.9784\n",
      "Epoch 19/20\n",
      "48000/48000 [==============================] - 5s 100us/step - loss: 0.0596 - acc: 0.9813 - val_loss: 0.0819 - val_acc: 0.9783\n",
      "Epoch 20/20\n",
      "48000/48000 [==============================] - 5s 103us/step - loss: 0.0581 - acc: 0.9817 - val_loss: 0.0886 - val_acc: 0.9764\n",
      "10000/10000 [==============================] - 1s 81us/step\n",
      "Test score 0.08362886898877041\n",
      "Test accuracy 0.9764\n",
      "\n",
      "\n",
      "Dropout rate 0.4\n",
      "Train on 48000 samples, validate on 12000 samples\n",
      "Epoch 1/20\n",
      "48000/48000 [==============================] - 7s 154us/step - loss: 0.4117 - acc: 0.8740 - val_loss: 0.1566 - val_acc: 0.9541\n",
      "Epoch 2/20\n",
      "48000/48000 [==============================] - 6s 115us/step - loss: 0.2299 - acc: 0.9327 - val_loss: 0.1348 - val_acc: 0.9607\n",
      "Epoch 3/20\n",
      "48000/48000 [==============================] - 5s 103us/step - loss: 0.1944 - acc: 0.9427 - val_loss: 0.1191 - val_acc: 0.9659\n",
      "Epoch 4/20\n",
      "48000/48000 [==============================] - 5s 103us/step - loss: 0.1713 - acc: 0.9486 - val_loss: 0.1122 - val_acc: 0.9676\n",
      "Epoch 5/20\n",
      "48000/48000 [==============================] - 5s 104us/step - loss: 0.1550 - acc: 0.9541 - val_loss: 0.1071 - val_acc: 0.9690\n",
      "Epoch 6/20\n",
      "48000/48000 [==============================] - 5s 105us/step - loss: 0.1487 - acc: 0.9555 - val_loss: 0.1048 - val_acc: 0.9701\n",
      "Epoch 7/20\n",
      "48000/48000 [==============================] - 5s 113us/step - loss: 0.1377 - acc: 0.9590 - val_loss: 0.0976 - val_acc: 0.9713\n",
      "Epoch 8/20\n",
      "48000/48000 [==============================] - 5s 111us/step - loss: 0.1321 - acc: 0.9598 - val_loss: 0.0968 - val_acc: 0.9707\n",
      "Epoch 9/20\n",
      "48000/48000 [==============================] - 5s 111us/step - loss: 0.1233 - acc: 0.9625 - val_loss: 0.0951 - val_acc: 0.9722\n",
      "Epoch 10/20\n",
      "48000/48000 [==============================] - 5s 109us/step - loss: 0.1176 - acc: 0.9643 - val_loss: 0.0900 - val_acc: 0.9735\n",
      "Epoch 11/20\n",
      "48000/48000 [==============================] - 5s 111us/step - loss: 0.1149 - acc: 0.9657 - val_loss: 0.0916 - val_acc: 0.9732\n",
      "Epoch 12/20\n",
      "48000/48000 [==============================] - 5s 110us/step - loss: 0.1101 - acc: 0.9656 - val_loss: 0.0921 - val_acc: 0.9748\n",
      "Epoch 13/20\n",
      "48000/48000 [==============================] - 5s 111us/step - loss: 0.1037 - acc: 0.9673 - val_loss: 0.0930 - val_acc: 0.9750\n",
      "Epoch 14/20\n",
      "48000/48000 [==============================] - 5s 111us/step - loss: 0.1015 - acc: 0.9687 - val_loss: 0.0852 - val_acc: 0.9749\n",
      "Epoch 15/20\n",
      "48000/48000 [==============================] - 5s 108us/step - loss: 0.0935 - acc: 0.9701 - val_loss: 0.0864 - val_acc: 0.9753\n",
      "Epoch 16/20\n",
      "48000/48000 [==============================] - 5s 112us/step - loss: 0.0935 - acc: 0.9707 - val_loss: 0.0880 - val_acc: 0.9742\n",
      "Epoch 17/20\n",
      "48000/48000 [==============================] - 5s 111us/step - loss: 0.0946 - acc: 0.9707 - val_loss: 0.0860 - val_acc: 0.9743\n",
      "Epoch 18/20\n",
      "48000/48000 [==============================] - 5s 109us/step - loss: 0.0925 - acc: 0.9708 - val_loss: 0.0870 - val_acc: 0.9742\n",
      "Epoch 19/20\n",
      "48000/48000 [==============================] - 5s 109us/step - loss: 0.0863 - acc: 0.9730 - val_loss: 0.0874 - val_acc: 0.9753\n",
      "Epoch 20/20\n",
      "48000/48000 [==============================] - 6s 115us/step - loss: 0.0864 - acc: 0.9735 - val_loss: 0.0888 - val_acc: 0.9756\n",
      "10000/10000 [==============================] - 1s 108us/step\n",
      "Test score 0.08584737999865465\n",
      "Test accuracy 0.9758\n",
      "\n",
      "\n",
      "Dropout rate 0.5\n",
      "Train on 48000 samples, validate on 12000 samples\n",
      "Epoch 1/20\n",
      "48000/48000 [==============================] - 8s 166us/step - loss: 0.5039 - acc: 0.8446 - val_loss: 0.1785 - val_acc: 0.9477\n",
      "Epoch 2/20\n",
      "48000/48000 [==============================] - 5s 98us/step - loss: 0.2991 - acc: 0.9131 - val_loss: 0.1533 - val_acc: 0.9560\n",
      "Epoch 3/20\n",
      "48000/48000 [==============================] - 5s 98us/step - loss: 0.2579 - acc: 0.9251 - val_loss: 0.1362 - val_acc: 0.9606\n",
      "Epoch 4/20\n",
      "48000/48000 [==============================] - 5s 98us/step - loss: 0.2310 - acc: 0.9345 - val_loss: 0.1249 - val_acc: 0.9637\n",
      "Epoch 5/20\n",
      "48000/48000 [==============================] - 5s 100us/step - loss: 0.2152 - acc: 0.9396 - val_loss: 0.1197 - val_acc: 0.9652\n",
      "Epoch 6/20\n",
      "48000/48000 [==============================] - 5s 102us/step - loss: 0.1973 - acc: 0.9424 - val_loss: 0.1101 - val_acc: 0.9685\n",
      "Epoch 7/20\n",
      "48000/48000 [==============================] - 5s 99us/step - loss: 0.1873 - acc: 0.9450 - val_loss: 0.1089 - val_acc: 0.9690\n",
      "Epoch 8/20\n",
      "48000/48000 [==============================] - 5s 111us/step - loss: 0.1785 - acc: 0.9482 - val_loss: 0.1062 - val_acc: 0.9697\n",
      "Epoch 9/20\n",
      "48000/48000 [==============================] - 5s 99us/step - loss: 0.1710 - acc: 0.9502 - val_loss: 0.1076 - val_acc: 0.9702\n",
      "Epoch 10/20\n",
      "48000/48000 [==============================] - 5s 101us/step - loss: 0.1684 - acc: 0.9499 - val_loss: 0.1042 - val_acc: 0.9706\n",
      "Epoch 11/20\n",
      "48000/48000 [==============================] - 5s 99us/step - loss: 0.1632 - acc: 0.9517 - val_loss: 0.1011 - val_acc: 0.9729\n",
      "Epoch 12/20\n"
     ]
    },
    {
     "name": "stdout",
     "output_type": "stream",
     "text": [
      "48000/48000 [==============================] - 4s 89us/step - loss: 0.1575 - acc: 0.9539 - val_loss: 0.0985 - val_acc: 0.9730\n",
      "Epoch 13/20\n",
      "48000/48000 [==============================] - 4s 86us/step - loss: 0.1525 - acc: 0.9547 - val_loss: 0.0977 - val_acc: 0.9729\n",
      "Epoch 14/20\n",
      "48000/48000 [==============================] - 4s 88us/step - loss: 0.1441 - acc: 0.9560 - val_loss: 0.1024 - val_acc: 0.9727\n",
      "Epoch 15/20\n",
      "48000/48000 [==============================] - 4s 88us/step - loss: 0.1430 - acc: 0.9585 - val_loss: 0.0988 - val_acc: 0.9723\n",
      "Epoch 16/20\n",
      "48000/48000 [==============================] - 4s 88us/step - loss: 0.1407 - acc: 0.9577 - val_loss: 0.0969 - val_acc: 0.9738\n",
      "Epoch 17/20\n",
      "48000/48000 [==============================] - 4s 87us/step - loss: 0.1394 - acc: 0.9589 - val_loss: 0.0957 - val_acc: 0.9752\n",
      "Epoch 18/20\n",
      "48000/48000 [==============================] - 4s 90us/step - loss: 0.1341 - acc: 0.9603 - val_loss: 0.0998 - val_acc: 0.9735\n",
      "Epoch 19/20\n",
      "48000/48000 [==============================] - 4s 88us/step - loss: 0.1296 - acc: 0.9614 - val_loss: 0.0975 - val_acc: 0.9746\n",
      "Epoch 20/20\n",
      "48000/48000 [==============================] - 4s 89us/step - loss: 0.1306 - acc: 0.9595 - val_loss: 0.0977 - val_acc: 0.9736\n",
      "10000/10000 [==============================] - 1s 96us/step\n",
      "Test score 0.09453554961179617\n",
      "Test accuracy 0.9722\n",
      "\n",
      "\n",
      "Dropout rate 0.6\n",
      "Train on 48000 samples, validate on 12000 samples\n",
      "Epoch 1/20\n",
      "48000/48000 [==============================] - 7s 136us/step - loss: 0.6776 - acc: 0.7885 - val_loss: 0.2355 - val_acc: 0.9341\n",
      "Epoch 2/20\n",
      "48000/48000 [==============================] - 5s 98us/step - loss: 0.4303 - acc: 0.8743 - val_loss: 0.1981 - val_acc: 0.9432\n",
      "Epoch 3/20\n",
      "48000/48000 [==============================] - 5s 100us/step - loss: 0.3813 - acc: 0.8905 - val_loss: 0.1786 - val_acc: 0.9505\n",
      "Epoch 4/20\n",
      "48000/48000 [==============================] - 5s 99us/step - loss: 0.3564 - acc: 0.8981 - val_loss: 0.1690 - val_acc: 0.9523\n",
      "Epoch 5/20\n",
      "48000/48000 [==============================] - 5s 99us/step - loss: 0.3288 - acc: 0.9053 - val_loss: 0.1619 - val_acc: 0.9552\n",
      "Epoch 6/20\n",
      "48000/48000 [==============================] - 5s 102us/step - loss: 0.3215 - acc: 0.9068 - val_loss: 0.1584 - val_acc: 0.9571\n",
      "Epoch 7/20\n",
      "48000/48000 [==============================] - 5s 98us/step - loss: 0.3028 - acc: 0.9134 - val_loss: 0.1508 - val_acc: 0.9578\n",
      "Epoch 8/20\n",
      "48000/48000 [==============================] - 5s 100us/step - loss: 0.2945 - acc: 0.9152 - val_loss: 0.1458 - val_acc: 0.9597\n",
      "Epoch 9/20\n",
      "48000/48000 [==============================] - 5s 105us/step - loss: 0.2883 - acc: 0.9170 - val_loss: 0.1433 - val_acc: 0.9614\n",
      "Epoch 10/20\n",
      "48000/48000 [==============================] - 5s 96us/step - loss: 0.2841 - acc: 0.9183 - val_loss: 0.1441 - val_acc: 0.9603\n",
      "Epoch 11/20\n",
      "48000/48000 [==============================] - 5s 95us/step - loss: 0.2744 - acc: 0.9211 - val_loss: 0.1395 - val_acc: 0.9612\n",
      "Epoch 12/20\n",
      "48000/48000 [==============================] - 5s 97us/step - loss: 0.2729 - acc: 0.9212 - val_loss: 0.1375 - val_acc: 0.9620\n",
      "Epoch 13/20\n",
      "48000/48000 [==============================] - 5s 98us/step - loss: 0.2661 - acc: 0.9241 - val_loss: 0.1379 - val_acc: 0.9613\n",
      "Epoch 14/20\n",
      "48000/48000 [==============================] - 6s 117us/step - loss: 0.2605 - acc: 0.9240 - val_loss: 0.1335 - val_acc: 0.9633\n",
      "Epoch 15/20\n",
      "48000/48000 [==============================] - 5s 98us/step - loss: 0.2531 - acc: 0.9256 - val_loss: 0.1321 - val_acc: 0.9641\n",
      "Epoch 16/20\n",
      "48000/48000 [==============================] - 5s 98us/step - loss: 0.2554 - acc: 0.9251 - val_loss: 0.1322 - val_acc: 0.9631\n",
      "Epoch 17/20\n",
      "48000/48000 [==============================] - 5s 95us/step - loss: 0.2474 - acc: 0.9282 - val_loss: 0.1332 - val_acc: 0.9625\n",
      "Epoch 18/20\n",
      "48000/48000 [==============================] - 5s 97us/step - loss: 0.2498 - acc: 0.9280 - val_loss: 0.1310 - val_acc: 0.9631\n",
      "Epoch 19/20\n",
      "48000/48000 [==============================] - 5s 97us/step - loss: 0.2474 - acc: 0.9293 - val_loss: 0.1276 - val_acc: 0.9650\n",
      "Epoch 20/20\n",
      "48000/48000 [==============================] - 5s 97us/step - loss: 0.2446 - acc: 0.9303 - val_loss: 0.1366 - val_acc: 0.9625\n",
      "10000/10000 [==============================] - 1s 97us/step\n",
      "Test score 0.1289141940407455\n",
      "Test accuracy 0.9622\n",
      "\n",
      "\n",
      "Dropout rate 0.7\n",
      "Train on 48000 samples, validate on 12000 samples\n",
      "Epoch 1/20\n",
      "48000/48000 [==============================] - 6s 129us/step - loss: 0.9299 - acc: 0.6950 - val_loss: 0.3328 - val_acc: 0.9142\n",
      "Epoch 2/20\n",
      "48000/48000 [==============================] - 4s 92us/step - loss: 0.6463 - acc: 0.8015 - val_loss: 0.2743 - val_acc: 0.9279\n",
      "Epoch 3/20\n",
      "48000/48000 [==============================] - 4s 93us/step - loss: 0.5832 - acc: 0.8240 - val_loss: 0.2527 - val_acc: 0.9308\n",
      "Epoch 4/20\n",
      "48000/48000 [==============================] - 4s 91us/step - loss: 0.5538 - acc: 0.8327 - val_loss: 0.2395 - val_acc: 0.9336\n",
      "Epoch 5/20\n",
      "48000/48000 [==============================] - 4s 92us/step - loss: 0.5221 - acc: 0.8441 - val_loss: 0.2271 - val_acc: 0.9380\n",
      "Epoch 6/20\n",
      "48000/48000 [==============================] - 4s 93us/step - loss: 0.5030 - acc: 0.8511 - val_loss: 0.2153 - val_acc: 0.9414\n",
      "Epoch 7/20\n",
      "48000/48000 [==============================] - 4s 92us/step - loss: 0.4870 - acc: 0.8554 - val_loss: 0.2125 - val_acc: 0.9432\n",
      "Epoch 8/20\n",
      "48000/48000 [==============================] - 4s 94us/step - loss: 0.4721 - acc: 0.8591 - val_loss: 0.2033 - val_acc: 0.9433\n",
      "Epoch 9/20\n",
      "48000/48000 [==============================] - 5s 95us/step - loss: 0.4569 - acc: 0.8621 - val_loss: 0.2033 - val_acc: 0.9472\n",
      "Epoch 10/20\n",
      "48000/48000 [==============================] - 5s 94us/step - loss: 0.4603 - acc: 0.8645 - val_loss: 0.1988 - val_acc: 0.9469\n",
      "Epoch 11/20\n",
      "48000/48000 [==============================] - 5s 94us/step - loss: 0.4490 - acc: 0.8687 - val_loss: 0.1961 - val_acc: 0.9466\n",
      "Epoch 12/20\n",
      "48000/48000 [==============================] - 5s 96us/step - loss: 0.4346 - acc: 0.8734 - val_loss: 0.1946 - val_acc: 0.9485\n",
      "Epoch 13/20\n",
      "48000/48000 [==============================] - 5s 96us/step - loss: 0.4310 - acc: 0.8745 - val_loss: 0.1912 - val_acc: 0.9506\n",
      "Epoch 14/20\n",
      "48000/48000 [==============================] - 4s 93us/step - loss: 0.4247 - acc: 0.8748 - val_loss: 0.1930 - val_acc: 0.9506\n",
      "Epoch 15/20\n",
      "48000/48000 [==============================] - 5s 95us/step - loss: 0.4221 - acc: 0.8759 - val_loss: 0.1887 - val_acc: 0.9503\n",
      "Epoch 16/20\n",
      "48000/48000 [==============================] - 5s 96us/step - loss: 0.4278 - acc: 0.8746 - val_loss: 0.1908 - val_acc: 0.9503\n",
      "Epoch 17/20\n",
      "48000/48000 [==============================] - 5s 108us/step - loss: 0.4171 - acc: 0.8762 - val_loss: 0.1833 - val_acc: 0.9518\n",
      "Epoch 18/20\n",
      "48000/48000 [==============================] - 5s 111us/step - loss: 0.4123 - acc: 0.8790 - val_loss: 0.1831 - val_acc: 0.9538\n",
      "Epoch 19/20\n",
      "48000/48000 [==============================] - 5s 98us/step - loss: 0.4084 - acc: 0.8811 - val_loss: 0.1846 - val_acc: 0.9521\n",
      "Epoch 20/20\n",
      "48000/48000 [==============================] - 5s 100us/step - loss: 0.4108 - acc: 0.8787 - val_loss: 0.1912 - val_acc: 0.9498\n",
      "10000/10000 [==============================] - 1s 85us/step\n",
      "Test score 0.19120821488201617\n",
      "Test accuracy 0.9477\n",
      "\n",
      "\n",
      "Dropout rate 0.8\n",
      "Train on 48000 samples, validate on 12000 samples\n",
      "Epoch 1/20\n",
      "48000/48000 [==============================] - 7s 140us/step - loss: 1.6133 - acc: 0.4088 - val_loss: 0.8418 - val_acc: 0.8555\n",
      "Epoch 2/20\n",
      "48000/48000 [==============================] - 5s 97us/step - loss: 1.3552 - acc: 0.4985 - val_loss: 0.8017 - val_acc: 0.8416\n",
      "Epoch 3/20\n",
      "48000/48000 [==============================] - 5s 100us/step - loss: 1.2947 - acc: 0.5173 - val_loss: 0.7233 - val_acc: 0.8475\n",
      "Epoch 4/20\n",
      "48000/48000 [==============================] - 6s 120us/step - loss: 1.2588 - acc: 0.5321 - val_loss: 0.7159 - val_acc: 0.8672\n",
      "Epoch 5/20\n",
      "48000/48000 [==============================] - 6s 122us/step - loss: 1.2200 - acc: 0.5506 - val_loss: 0.6618 - val_acc: 0.8798\n",
      "Epoch 6/20\n",
      "48000/48000 [==============================] - 5s 104us/step - loss: 1.2063 - acc: 0.5555 - val_loss: 0.6816 - val_acc: 0.8714\n",
      "Epoch 7/20\n"
     ]
    },
    {
     "name": "stdout",
     "output_type": "stream",
     "text": [
      "48000/48000 [==============================] - 5s 96us/step - loss: 1.1867 - acc: 0.5611 - val_loss: 0.6646 - val_acc: 0.8812\n",
      "Epoch 8/20\n",
      "48000/48000 [==============================] - 5s 100us/step - loss: 1.1612 - acc: 0.5685 - val_loss: 0.6360 - val_acc: 0.8879\n",
      "Epoch 9/20\n",
      "48000/48000 [==============================] - 6s 120us/step - loss: 1.1455 - acc: 0.5782 - val_loss: 0.6012 - val_acc: 0.8925\n",
      "Epoch 10/20\n",
      "48000/48000 [==============================] - 5s 103us/step - loss: 1.1117 - acc: 0.5913 - val_loss: 0.5930 - val_acc: 0.8893\n",
      "Epoch 11/20\n",
      "48000/48000 [==============================] - 4s 93us/step - loss: 1.1004 - acc: 0.5985 - val_loss: 0.5872 - val_acc: 0.8938\n",
      "Epoch 12/20\n",
      "48000/48000 [==============================] - 5s 99us/step - loss: 1.0859 - acc: 0.6003 - val_loss: 0.5770 - val_acc: 0.8926\n",
      "Epoch 13/20\n",
      "48000/48000 [==============================] - 5s 96us/step - loss: 1.0832 - acc: 0.6030 - val_loss: 0.5472 - val_acc: 0.8922\n",
      "Epoch 14/20\n",
      "48000/48000 [==============================] - 5s 94us/step - loss: 1.0810 - acc: 0.6056 - val_loss: 0.5589 - val_acc: 0.8996\n",
      "Epoch 15/20\n",
      "48000/48000 [==============================] - 4s 93us/step - loss: 1.0723 - acc: 0.6062 - val_loss: 0.5658 - val_acc: 0.8933\n",
      "Epoch 16/20\n",
      "48000/48000 [==============================] - 5s 95us/step - loss: 1.0582 - acc: 0.6120 - val_loss: 0.5481 - val_acc: 0.9024\n",
      "Epoch 17/20\n",
      "48000/48000 [==============================] - 5s 95us/step - loss: 1.0560 - acc: 0.6149 - val_loss: 0.5429 - val_acc: 0.8885\n",
      "Epoch 18/20\n",
      "48000/48000 [==============================] - 5s 95us/step - loss: 1.0447 - acc: 0.6210 - val_loss: 0.5303 - val_acc: 0.8957\n",
      "Epoch 19/20\n",
      "48000/48000 [==============================] - 4s 94us/step - loss: 1.0399 - acc: 0.6216 - val_loss: 0.5411 - val_acc: 0.8969\n",
      "Epoch 20/20\n",
      "48000/48000 [==============================] - 5s 96us/step - loss: 1.0437 - acc: 0.6220 - val_loss: 0.5115 - val_acc: 0.8993\n",
      "10000/10000 [==============================] - 1s 107us/step\n",
      "Test score 0.5153826442718505\n",
      "Test accuracy 0.8935\n",
      "\n",
      "\n",
      "Dropout rate 0.9\n",
      "Train on 48000 samples, validate on 12000 samples\n",
      "Epoch 1/20\n",
      "48000/48000 [==============================] - 7s 152us/step - loss: 2.2494 - acc: 0.1387 - val_loss: 1.9820 - val_acc: 0.4313\n",
      "Epoch 2/20\n",
      "48000/48000 [==============================] - 5s 115us/step - loss: 2.1343 - acc: 0.1841 - val_loss: 1.7675 - val_acc: 0.4674\n",
      "Epoch 3/20\n",
      "48000/48000 [==============================] - 5s 103us/step - loss: 2.0714 - acc: 0.2120 - val_loss: 1.6539 - val_acc: 0.4824\n",
      "Epoch 4/20\n",
      "48000/48000 [==============================] - 5s 98us/step - loss: 2.0431 - acc: 0.2224 - val_loss: 1.6231 - val_acc: 0.4843\n",
      "Epoch 5/20\n",
      "48000/48000 [==============================] - 5s 100us/step - loss: 2.0314 - acc: 0.2273 - val_loss: 1.6203 - val_acc: 0.4913\n",
      "Epoch 6/20\n",
      "48000/48000 [==============================] - 5s 97us/step - loss: 2.0186 - acc: 0.2311 - val_loss: 1.5890 - val_acc: 0.5011\n",
      "Epoch 7/20\n",
      "48000/48000 [==============================] - 5s 98us/step - loss: 2.0119 - acc: 0.2333 - val_loss: 1.6069 - val_acc: 0.5252\n",
      "Epoch 8/20\n",
      "48000/48000 [==============================] - 5s 101us/step - loss: 2.0019 - acc: 0.2359 - val_loss: 1.5498 - val_acc: 0.5458\n",
      "Epoch 9/20\n",
      "48000/48000 [==============================] - 5s 98us/step - loss: 2.0007 - acc: 0.2358 - val_loss: 1.5657 - val_acc: 0.5430\n",
      "Epoch 10/20\n",
      "48000/48000 [==============================] - 5s 98us/step - loss: 1.9942 - acc: 0.2373 - val_loss: 1.5675 - val_acc: 0.5383\n",
      "Epoch 11/20\n",
      "48000/48000 [==============================] - 5s 102us/step - loss: 1.9805 - acc: 0.2411 - val_loss: 1.5493 - val_acc: 0.4837\n",
      "Epoch 12/20\n",
      "48000/48000 [==============================] - 5s 99us/step - loss: 1.9736 - acc: 0.2421 - val_loss: 1.5320 - val_acc: 0.5638\n",
      "Epoch 13/20\n",
      "48000/48000 [==============================] - 5s 99us/step - loss: 1.9651 - acc: 0.2466 - val_loss: 1.4907 - val_acc: 0.5228\n",
      "Epoch 14/20\n",
      "48000/48000 [==============================] - 5s 109us/step - loss: 1.9686 - acc: 0.2434 - val_loss: 1.5709 - val_acc: 0.5388\n",
      "Epoch 15/20\n",
      "48000/48000 [==============================] - 5s 100us/step - loss: 1.9659 - acc: 0.2429 - val_loss: 1.4894 - val_acc: 0.5494\n",
      "Epoch 16/20\n",
      "48000/48000 [==============================] - 5s 102us/step - loss: 1.9585 - acc: 0.2441 - val_loss: 1.4570 - val_acc: 0.5527\n",
      "Epoch 17/20\n",
      "48000/48000 [==============================] - 5s 103us/step - loss: 1.9549 - acc: 0.2474 - val_loss: 1.4826 - val_acc: 0.4894\n",
      "Epoch 18/20\n",
      "48000/48000 [==============================] - 5s 97us/step - loss: 1.9645 - acc: 0.2429 - val_loss: 1.5043 - val_acc: 0.4972\n",
      "Epoch 19/20\n",
      "48000/48000 [==============================] - 5s 102us/step - loss: 1.9590 - acc: 0.2456 - val_loss: 1.4433 - val_acc: 0.5540\n",
      "Epoch 20/20\n",
      "48000/48000 [==============================] - 5s 97us/step - loss: 1.9563 - acc: 0.2471 - val_loss: 1.4800 - val_acc: 0.5557\n",
      "10000/10000 [==============================] - 1s 95us/step\n",
      "Test score 1.4767575309753418\n",
      "Test accuracy 0.5481\n",
      "\n",
      "\n",
      "Dropout rate 0.99\n",
      "Train on 48000 samples, validate on 12000 samples\n",
      "Epoch 1/20\n",
      "48000/48000 [==============================] - 8s 163us/step - loss: 2.7793 - acc: 0.1128 - val_loss: 2.4403 - val_acc: 0.1019\n",
      "Epoch 2/20\n",
      "48000/48000 [==============================] - 5s 101us/step - loss: 2.4136 - acc: 0.1140 - val_loss: 2.3548 - val_acc: 0.1047\n",
      "Epoch 3/20\n",
      "48000/48000 [==============================] - 5s 100us/step - loss: 2.3983 - acc: 0.1137 - val_loss: 2.3027 - val_acc: 0.1060\n",
      "Epoch 4/20\n",
      "48000/48000 [==============================] - 5s 100us/step - loss: 2.3037 - acc: 0.1139 - val_loss: 2.3021 - val_acc: 0.1060\n",
      "Epoch 5/20\n",
      "48000/48000 [==============================] - 5s 101us/step - loss: 2.3017 - acc: 0.1140 - val_loss: 2.3023 - val_acc: 0.1060\n",
      "Epoch 6/20\n",
      "48000/48000 [==============================] - 5s 100us/step - loss: 2.3022 - acc: 0.1139 - val_loss: 2.3022 - val_acc: 0.1060\n",
      "Epoch 7/20\n",
      "48000/48000 [==============================] - 5s 103us/step - loss: 2.3036 - acc: 0.1140 - val_loss: 2.3021 - val_acc: 0.1060\n",
      "Epoch 8/20\n",
      "48000/48000 [==============================] - 5s 105us/step - loss: 2.3018 - acc: 0.1140 - val_loss: 2.3016 - val_acc: 0.1060\n",
      "Epoch 9/20\n",
      "48000/48000 [==============================] - 5s 102us/step - loss: 2.3025 - acc: 0.1139 - val_loss: 2.3020 - val_acc: 0.1060\n",
      "Epoch 10/20\n",
      "48000/48000 [==============================] - 5s 101us/step - loss: 2.3020 - acc: 0.1139 - val_loss: 2.3022 - val_acc: 0.1060\n",
      "Epoch 11/20\n",
      "48000/48000 [==============================] - 5s 101us/step - loss: 2.3014 - acc: 0.1140 - val_loss: 2.3021 - val_acc: 0.1060\n",
      "Epoch 12/20\n",
      "48000/48000 [==============================] - 5s 100us/step - loss: 2.3016 - acc: 0.1139 - val_loss: 2.3022 - val_acc: 0.1060\n",
      "Epoch 13/20\n",
      "48000/48000 [==============================] - 5s 101us/step - loss: 2.3013 - acc: 0.1140 - val_loss: 2.3022 - val_acc: 0.1060\n",
      "Epoch 14/20\n",
      "48000/48000 [==============================] - 5s 102us/step - loss: 2.3026 - acc: 0.1140 - val_loss: 2.3021 - val_acc: 0.1060\n",
      "Epoch 15/20\n",
      "48000/48000 [==============================] - 5s 103us/step - loss: 2.3019 - acc: 0.1140 - val_loss: 2.3021 - val_acc: 0.1060\n",
      "Epoch 16/20\n",
      "48000/48000 [==============================] - 5s 103us/step - loss: 2.3016 - acc: 0.1139 - val_loss: 2.3021 - val_acc: 0.1060\n",
      "Epoch 17/20\n",
      "48000/48000 [==============================] - 5s 102us/step - loss: 2.3012 - acc: 0.1140 - val_loss: 2.3021 - val_acc: 0.1060\n",
      "Epoch 18/20\n",
      "48000/48000 [==============================] - 5s 100us/step - loss: 2.3011 - acc: 0.1140 - val_loss: 2.3021 - val_acc: 0.1060\n",
      "Epoch 19/20\n",
      "48000/48000 [==============================] - 5s 102us/step - loss: 2.3011 - acc: 0.1140 - val_loss: 2.3021 - val_acc: 0.1060\n",
      "Epoch 20/20\n",
      "48000/48000 [==============================] - 5s 103us/step - loss: 2.3024 - acc: 0.1140 - val_loss: 2.3021 - val_acc: 0.1060\n",
      "10000/10000 [==============================] - 1s 123us/step\n",
      "Test score 2.301043550872803\n",
      "Test accuracy 0.1135\n",
      "\n",
      "\n"
     ]
    }
   ],
   "source": [
    "loss, accuracy = list(), list()\n",
    "for DROPOUT in dropouts:\n",
    "    print('Dropout rate {}'.format(str(DROPOUT)))\n",
    "    model = Sequential()\n",
    "    model.add(Dense(N_HIDDEN, input_shape = (RESHAPED,)))\n",
    "    model.add(Activation('relu'))\n",
    "    model.add(Dropout(rate=DROPOUT))\n",
    "    model.add(Dense(N_HIDDEN))\n",
    "    model.add(Activation('relu'))\n",
    "    model.add(Dropout(rate=DROPOUT))\n",
    "    model.add(Dense(NB_CLASSES))\n",
    "    model.add(Activation('softmax'))\n",
    "    model.compile(optimizer=OPTIMIZER, loss='categorical_crossentropy', metrics=['accuracy'])\n",
    "    history = model.fit(X_train, y_train, \n",
    "                        batch_size=BATCH_SIZE,epochs=NB_EPOCH, verbose=VERBOSE, validation_split=VALIDATION_SPLIT)\n",
    "    score = model.evaluate(X_test, y_test, verbose=VERBOSE)\n",
    "    print('Test score {}'.format(score[0]))\n",
    "    print('Test accuracy {}'.format(score[1]))\n",
    "    print('\\n')\n",
    "    loss.append(score[0])\n",
    "    accuracy.append(score[1])"
   ]
  },
  {
   "cell_type": "code",
   "execution_count": 34,
   "metadata": {},
   "outputs": [],
   "source": [
    "dropout_rate = np.array(dropouts)\n",
    "loss, accuracy = np.array(loss), np.array(accuracy)"
   ]
  },
  {
   "cell_type": "code",
   "execution_count": 37,
   "metadata": {},
   "outputs": [
    {
     "data": {
      "text/plain": [
       "[<matplotlib.lines.Line2D at 0x121819b38>]"
      ]
     },
     "execution_count": 37,
     "metadata": {},
     "output_type": "execute_result"
    },
    {
     "data": {
      "image/png": "[encoded data removed]",
      "text/plain": [
       "<matplotlib.figure.Figure at 0x121810240>"
      ]
     },
     "metadata": {},
     "output_type": "display_data"
    }
   ],
   "source": [
    "plt.figure(figsize=(12,6))\n",
    "plt.xlabel('Dropout rate')\n",
    "\n",
    "plt.ylabel('Test accuracy')\n",
    "\n",
    "plt.grid()\n",
    "plt.plot(dropout_rate, accuracy)"
   ]
  },
  {
   "cell_type": "code",
   "execution_count": 40,
   "metadata": {},
   "outputs": [
    {
     "data": {
      "text/plain": [
       "[<matplotlib.lines.Line2D at 0x121e09e80>]"
      ]
     },
     "execution_count": 40,
     "metadata": {},
     "output_type": "execute_result"
    },
    {
     "data": {
      "image/png": "[encoded data removed]",
      "text/plain": [
       "<matplotlib.figure.Figure at 0x1216aea90>"
      ]
     },
     "metadata": {},
     "output_type": "display_data"
    }
   ],
   "source": [
    "plt.figure(figsize=(12,6))\n",
    "plt.xlabel('Dropout rate')\n",
    "\n",
    "plt.ylabel('Loss')\n",
    "plt.grid()\n",
    "plt.plot(dropout_rate, loss)"
   ]
  },
  {
   "cell_type": "markdown",
   "metadata": {},
   "source": [
    "# Learning rate of Adam optimizer"
   ]
  },
  {
   "cell_type": "code",
   "execution_count": 41,
   "metadata": {
    "scrolled": false
   },
   "outputs": [
    {
     "name": "stdout",
     "output_type": "stream",
     "text": [
      "Learning rate 0.1\n",
      "Train on 48000 samples, validate on 12000 samples\n",
      "Epoch 1/20\n",
      "48000/48000 [==============================] - 7s 149us/step - loss: 14.4872 - acc: 0.0991 - val_loss: 14.5117 - val_acc: 0.0997\n",
      "Epoch 2/20\n",
      "48000/48000 [==============================] - 5s 94us/step - loss: 14.5180 - acc: 0.0993 - val_loss: 14.5117 - val_acc: 0.0997\n",
      "Epoch 3/20\n",
      "48000/48000 [==============================] - 5s 105us/step - loss: 14.5184 - acc: 0.0992 - val_loss: 14.5117 - val_acc: 0.0997\n",
      "Epoch 4/20\n",
      "48000/48000 [==============================] - 5s 99us/step - loss: 14.3901 - acc: 0.1072 - val_loss: 14.4096 - val_acc: 0.1060\n",
      "Epoch 5/20\n",
      "48000/48000 [==============================] - 5s 111us/step - loss: 14.2813 - acc: 0.1140 - val_loss: 14.4096 - val_acc: 0.1060\n",
      "Epoch 6/20\n",
      "48000/48000 [==============================] - 5s 101us/step - loss: 14.2813 - acc: 0.1140 - val_loss: 14.4096 - val_acc: 0.1060\n",
      "Epoch 7/20\n",
      "48000/48000 [==============================] - 5s 105us/step - loss: 14.2813 - acc: 0.1140 - val_loss: 14.4096 - val_acc: 0.1060\n",
      "Epoch 8/20\n",
      "48000/48000 [==============================] - 5s 99us/step - loss: 14.2813 - acc: 0.1140 - val_loss: 14.4096 - val_acc: 0.1060\n",
      "Epoch 9/20\n",
      "48000/48000 [==============================] - 5s 106us/step - loss: 14.2813 - acc: 0.1140 - val_loss: 14.4096 - val_acc: 0.1060\n",
      "Epoch 10/20\n",
      "48000/48000 [==============================] - 5s 109us/step - loss: 14.2813 - acc: 0.1140 - val_loss: 14.4096 - val_acc: 0.1060\n",
      "Epoch 11/20\n",
      "48000/48000 [==============================] - 5s 104us/step - loss: 14.2813 - acc: 0.1140 - val_loss: 14.4096 - val_acc: 0.1060\n",
      "Epoch 12/20\n",
      "48000/48000 [==============================] - 5s 108us/step - loss: 14.2813 - acc: 0.1140 - val_loss: 14.4096 - val_acc: 0.1060\n",
      "Epoch 13/20\n",
      "48000/48000 [==============================] - 5s 104us/step - loss: 14.2813 - acc: 0.1140 - val_loss: 14.4096 - val_acc: 0.1060\n",
      "Epoch 14/20\n",
      "48000/48000 [==============================] - 5s 107us/step - loss: 14.2813 - acc: 0.1140 - val_loss: 14.4096 - val_acc: 0.1060\n",
      "Epoch 15/20\n",
      "48000/48000 [==============================] - 5s 108us/step - loss: 14.2813 - acc: 0.1140 - val_loss: 14.4096 - val_acc: 0.1060\n",
      "Epoch 16/20\n",
      "48000/48000 [==============================] - 5s 109us/step - loss: 14.2813 - acc: 0.1140 - val_loss: 14.4096 - val_acc: 0.1060\n",
      "Epoch 17/20\n",
      "48000/48000 [==============================] - 5s 102us/step - loss: 14.2813 - acc: 0.1140 - val_loss: 14.4096 - val_acc: 0.1060\n",
      "Epoch 18/20\n",
      "48000/48000 [==============================] - 5s 100us/step - loss: 14.2813 - acc: 0.1140 - val_loss: 14.4096 - val_acc: 0.1060\n",
      "Epoch 19/20\n",
      "48000/48000 [==============================] - 5s 101us/step - loss: 14.2813 - acc: 0.1140 - val_loss: 14.4096 - val_acc: 0.1060\n",
      "Epoch 20/20\n",
      "48000/48000 [==============================] - 5s 109us/step - loss: 14.2813 - acc: 0.1140 - val_loss: 14.4096 - val_acc: 0.1060\n",
      "10000/10000 [==============================] - 1s 118us/step\n",
      "Test score 14.28869146270752\n",
      "Test accuracy 0.1135\n",
      "\n",
      "\n",
      "Learning rate 0.01\n",
      "Train on 48000 samples, validate on 12000 samples\n",
      "Epoch 1/20\n",
      "48000/48000 [==============================] - 8s 158us/step - loss: 0.3521 - acc: 0.8935 - val_loss: 0.1807 - val_acc: 0.9455\n",
      "Epoch 2/20\n",
      "48000/48000 [==============================] - 6s 120us/step - loss: 0.2193 - acc: 0.9352 - val_loss: 0.1482 - val_acc: 0.9562\n",
      "Epoch 3/20\n",
      "48000/48000 [==============================] - 6s 121us/step - loss: 0.2040 - acc: 0.9409 - val_loss: 0.1290 - val_acc: 0.9647\n",
      "Epoch 4/20\n",
      "48000/48000 [==============================] - 5s 110us/step - loss: 0.1853 - acc: 0.9473 - val_loss: 0.1541 - val_acc: 0.9580\n",
      "Epoch 5/20\n",
      "48000/48000 [==============================] - 5s 109us/step - loss: 0.1770 - acc: 0.9496 - val_loss: 0.1333 - val_acc: 0.9646\n",
      "Epoch 6/20\n",
      "48000/48000 [==============================] - 5s 108us/step - loss: 0.1720 - acc: 0.9523 - val_loss: 0.1234 - val_acc: 0.9663\n",
      "Epoch 7/20\n",
      "48000/48000 [==============================] - 5s 106us/step - loss: 0.1680 - acc: 0.9537 - val_loss: 0.1169 - val_acc: 0.9688\n",
      "Epoch 8/20\n",
      "48000/48000 [==============================] - 5s 108us/step - loss: 0.1577 - acc: 0.9563 - val_loss: 0.1251 - val_acc: 0.9656\n",
      "Epoch 9/20\n",
      "48000/48000 [==============================] - 5s 107us/step - loss: 0.1676 - acc: 0.9543 - val_loss: 0.1475 - val_acc: 0.9638\n",
      "Epoch 10/20\n",
      "48000/48000 [==============================] - 5s 106us/step - loss: 0.1628 - acc: 0.9560 - val_loss: 0.1295 - val_acc: 0.9677\n",
      "Epoch 11/20\n",
      "48000/48000 [==============================] - 5s 111us/step - loss: 0.1575 - acc: 0.9586 - val_loss: 0.1222 - val_acc: 0.9684\n",
      "Epoch 12/20\n",
      "48000/48000 [==============================] - 5s 109us/step - loss: 0.1480 - acc: 0.9609 - val_loss: 0.1373 - val_acc: 0.9650\n",
      "Epoch 13/20\n",
      "48000/48000 [==============================] - 5s 107us/step - loss: 0.1555 - acc: 0.9590 - val_loss: 0.1403 - val_acc: 0.9636\n",
      "Epoch 14/20\n",
      "48000/48000 [==============================] - 5s 105us/step - loss: 0.1513 - acc: 0.9615 - val_loss: 0.1258 - val_acc: 0.9679\n",
      "Epoch 15/20\n",
      "48000/48000 [==============================] - 5s 106us/step - loss: 0.1467 - acc: 0.9630 - val_loss: 0.1260 - val_acc: 0.9695\n",
      "Epoch 16/20\n",
      "48000/48000 [==============================] - 5s 110us/step - loss: 0.1482 - acc: 0.9620 - val_loss: 0.1600 - val_acc: 0.9629\n",
      "Epoch 17/20\n",
      "48000/48000 [==============================] - 5s 108us/step - loss: 0.1538 - acc: 0.9608 - val_loss: 0.1371 - val_acc: 0.9671\n",
      "Epoch 18/20\n",
      "48000/48000 [==============================] - 5s 109us/step - loss: 0.1563 - acc: 0.9611 - val_loss: 0.1346 - val_acc: 0.9706\n",
      "Epoch 19/20\n",
      "48000/48000 [==============================] - 5s 106us/step - loss: 0.1517 - acc: 0.9624 - val_loss: 0.1438 - val_acc: 0.9670\n",
      "Epoch 20/20\n",
      "48000/48000 [==============================] - 5s 107us/step - loss: 0.1440 - acc: 0.9643 - val_loss: 0.1367 - val_acc: 0.9708\n",
      "10000/10000 [==============================] - 1s 100us/step\n",
      "Test score 0.14401992520043205\n",
      "Test accuracy 0.9676\n",
      "\n",
      "\n",
      "Learning rate 0.001\n",
      "Train on 48000 samples, validate on 12000 samples\n",
      "Epoch 1/20\n",
      "48000/48000 [==============================] - 8s 160us/step - loss: 0.4621 - acc: 0.8625 - val_loss: 0.1752 - val_acc: 0.9488\n",
      "Epoch 2/20\n",
      "48000/48000 [==============================] - 6s 126us/step - loss: 0.1983 - acc: 0.9406 - val_loss: 0.1271 - val_acc: 0.9625\n",
      "Epoch 3/20\n",
      "48000/48000 [==============================] - 6s 121us/step - loss: 0.1469 - acc: 0.9559 - val_loss: 0.1121 - val_acc: 0.9660\n",
      "Epoch 4/20\n",
      "48000/48000 [==============================] - 5s 111us/step - loss: 0.1218 - acc: 0.9635 - val_loss: 0.0943 - val_acc: 0.9707\n",
      "Epoch 5/20\n",
      "48000/48000 [==============================] - 6s 122us/step - loss: 0.1032 - acc: 0.9684 - val_loss: 0.0964 - val_acc: 0.9699\n",
      "Epoch 6/20\n",
      "48000/48000 [==============================] - 6s 115us/step - loss: 0.0896 - acc: 0.9729 - val_loss: 0.0880 - val_acc: 0.9737\n",
      "Epoch 7/20\n",
      "48000/48000 [==============================] - 6s 117us/step - loss: 0.0788 - acc: 0.9754 - val_loss: 0.0846 - val_acc: 0.9742\n",
      "Epoch 8/20\n",
      "48000/48000 [==============================] - 5s 110us/step - loss: 0.0689 - acc: 0.9786 - val_loss: 0.0821 - val_acc: 0.9757\n",
      "Epoch 9/20\n",
      "48000/48000 [==============================] - 5s 105us/step - loss: 0.0649 - acc: 0.9790 - val_loss: 0.0829 - val_acc: 0.9742\n",
      "Epoch 10/20\n",
      "48000/48000 [==============================] - 5s 103us/step - loss: 0.0600 - acc: 0.9811 - val_loss: 0.0788 - val_acc: 0.9764\n",
      "Epoch 11/20\n",
      "48000/48000 [==============================] - 5s 104us/step - loss: 0.0518 - acc: 0.9831 - val_loss: 0.0814 - val_acc: 0.9764\n",
      "Epoch 12/20\n",
      "48000/48000 [==============================] - 5s 110us/step - loss: 0.0497 - acc: 0.9839 - val_loss: 0.0812 - val_acc: 0.9764\n",
      "Epoch 13/20\n",
      "48000/48000 [==============================] - 5s 104us/step - loss: 0.0481 - acc: 0.9838 - val_loss: 0.0799 - val_acc: 0.9766\n",
      "Epoch 14/20\n",
      "48000/48000 [==============================] - 5s 111us/step - loss: 0.0458 - acc: 0.9850 - val_loss: 0.0812 - val_acc: 0.9776\n",
      "Epoch 15/20\n",
      "48000/48000 [==============================] - 5s 113us/step - loss: 0.0424 - acc: 0.9863 - val_loss: 0.0840 - val_acc: 0.9772\n",
      "Epoch 16/20\n",
      "48000/48000 [==============================] - 6s 117us/step - loss: 0.0403 - acc: 0.9864 - val_loss: 0.0781 - val_acc: 0.9775\n"
     ]
    },
    {
     "name": "stdout",
     "output_type": "stream",
     "text": [
      "Epoch 17/20\n",
      "48000/48000 [==============================] - 5s 103us/step - loss: 0.0394 - acc: 0.9868 - val_loss: 0.0753 - val_acc: 0.9792\n",
      "Epoch 18/20\n",
      "48000/48000 [==============================] - 5s 95us/step - loss: 0.0352 - acc: 0.9882 - val_loss: 0.0828 - val_acc: 0.9781\n",
      "Epoch 19/20\n",
      "48000/48000 [==============================] - 5s 97us/step - loss: 0.0346 - acc: 0.9885 - val_loss: 0.0858 - val_acc: 0.9773\n",
      "Epoch 20/20\n",
      "48000/48000 [==============================] - 5s 102us/step - loss: 0.0315 - acc: 0.9894 - val_loss: 0.0859 - val_acc: 0.9794\n",
      "10000/10000 [==============================] - 1s 143us/step\n",
      "Test score 0.07448416683726937\n",
      "Test accuracy 0.9797\n",
      "\n",
      "\n",
      "Learning rate 0.0001\n",
      "Train on 48000 samples, validate on 12000 samples\n",
      "Epoch 1/20\n",
      "48000/48000 [==============================] - 8s 157us/step - loss: 1.2485 - acc: 0.6259 - val_loss: 0.4818 - val_acc: 0.8816\n",
      "Epoch 2/20\n",
      "48000/48000 [==============================] - 5s 98us/step - loss: 0.5201 - acc: 0.8476 - val_loss: 0.3198 - val_acc: 0.9120\n",
      "Epoch 3/20\n",
      "48000/48000 [==============================] - 5s 102us/step - loss: 0.3982 - acc: 0.8841 - val_loss: 0.2670 - val_acc: 0.9253\n",
      "Epoch 4/20\n",
      "48000/48000 [==============================] - 6s 115us/step - loss: 0.3403 - acc: 0.9007 - val_loss: 0.2379 - val_acc: 0.9310\n",
      "Epoch 5/20\n",
      "48000/48000 [==============================] - 5s 103us/step - loss: 0.3029 - acc: 0.9118 - val_loss: 0.2149 - val_acc: 0.9381\n",
      "Epoch 6/20\n",
      "48000/48000 [==============================] - 5s 106us/step - loss: 0.2729 - acc: 0.9204 - val_loss: 0.1992 - val_acc: 0.9413\n",
      "Epoch 7/20\n",
      "48000/48000 [==============================] - 5s 101us/step - loss: 0.2533 - acc: 0.9257 - val_loss: 0.1850 - val_acc: 0.9465\n",
      "Epoch 8/20\n",
      "48000/48000 [==============================] - 5s 102us/step - loss: 0.2362 - acc: 0.9308 - val_loss: 0.1746 - val_acc: 0.9486\n",
      "Epoch 9/20\n",
      "48000/48000 [==============================] - 6s 116us/step - loss: 0.2176 - acc: 0.9361 - val_loss: 0.1640 - val_acc: 0.9521\n",
      "Epoch 10/20\n",
      "48000/48000 [==============================] - 5s 106us/step - loss: 0.2049 - acc: 0.9393 - val_loss: 0.1551 - val_acc: 0.9548\n",
      "Epoch 11/20\n",
      "48000/48000 [==============================] - 5s 107us/step - loss: 0.1920 - acc: 0.9423 - val_loss: 0.1483 - val_acc: 0.9578\n",
      "Epoch 12/20\n",
      "48000/48000 [==============================] - 5s 110us/step - loss: 0.1823 - acc: 0.9464 - val_loss: 0.1410 - val_acc: 0.9592\n",
      "Epoch 13/20\n",
      "48000/48000 [==============================] - 5s 109us/step - loss: 0.1737 - acc: 0.9491 - val_loss: 0.1353 - val_acc: 0.9597\n",
      "Epoch 14/20\n",
      "48000/48000 [==============================] - 5s 110us/step - loss: 0.1656 - acc: 0.9507 - val_loss: 0.1315 - val_acc: 0.9610\n",
      "Epoch 15/20\n",
      "48000/48000 [==============================] - 6s 118us/step - loss: 0.1563 - acc: 0.9533 - val_loss: 0.1266 - val_acc: 0.9632\n",
      "Epoch 16/20\n",
      "48000/48000 [==============================] - 5s 109us/step - loss: 0.1503 - acc: 0.9560 - val_loss: 0.1222 - val_acc: 0.9643\n",
      "Epoch 17/20\n",
      "48000/48000 [==============================] - 5s 108us/step - loss: 0.1432 - acc: 0.9577 - val_loss: 0.1183 - val_acc: 0.9657\n",
      "Epoch 18/20\n",
      "48000/48000 [==============================] - 6s 115us/step - loss: 0.1358 - acc: 0.9590 - val_loss: 0.1143 - val_acc: 0.9672\n",
      "Epoch 19/20\n",
      "48000/48000 [==============================] - 5s 109us/step - loss: 0.1316 - acc: 0.9611 - val_loss: 0.1115 - val_acc: 0.9668\n",
      "Epoch 20/20\n",
      "48000/48000 [==============================] - 5s 113us/step - loss: 0.1248 - acc: 0.9629 - val_loss: 0.1094 - val_acc: 0.9675\n",
      "10000/10000 [==============================] - 1s 108us/step\n",
      "Test score 0.10635283480081707\n",
      "Test accuracy 0.9667\n",
      "\n",
      "\n"
     ]
    }
   ],
   "source": [
    "learning_rates = [0.1, 0.01, 0.001, 0.0001]\n",
    "DROPOUT = 0.2\n",
    "loss, accuracy = list(), list()\n",
    "for lr in learning_rates:\n",
    "    print('Learning rate {}'.format(str(lr)))\n",
    "    model = Sequential()\n",
    "    model.add(Dense(N_HIDDEN, input_shape = (RESHAPED,)))\n",
    "    model.add(Activation('relu'))\n",
    "    model.add(Dropout(rate=DROPOUT))\n",
    "    model.add(Dense(N_HIDDEN))\n",
    "    model.add(Activation('relu'))\n",
    "    model.add(Dropout(rate=DROPOUT))\n",
    "    model.add(Dense(NB_CLASSES))\n",
    "    model.add(Activation('softmax'))\n",
    "    model.compile(optimizer=Adam(lr=lr), loss='categorical_crossentropy', metrics=['accuracy'])\n",
    "    history = model.fit(X_train, y_train, \n",
    "                        batch_size=BATCH_SIZE,epochs=NB_EPOCH, verbose=VERBOSE, validation_split=VALIDATION_SPLIT)\n",
    "    score = model.evaluate(X_test, y_test, verbose=VERBOSE)\n",
    "    print('Test score {}'.format(score[0]))\n",
    "    print('Test accuracy {}'.format(score[1]))\n",
    "    print('\\n')\n",
    "    loss.append(score[0])\n",
    "    accuracy.append(score[1])"
   ]
  },
  {
   "cell_type": "code",
   "execution_count": 42,
   "metadata": {},
   "outputs": [],
   "source": [
    "learning_rates = np.array(learning_rates)\n",
    "loss, accuracy = np.array(loss), np.array(accuracy)"
   ]
  },
  {
   "cell_type": "code",
   "execution_count": 43,
   "metadata": {},
   "outputs": [
    {
     "data": {
      "text/plain": [
       "[<matplotlib.lines.Line2D at 0x121dc8080>]"
      ]
     },
     "execution_count": 43,
     "metadata": {},
     "output_type": "execute_result"
    },
    {
     "data": {
      "image/png": "[encoded data removed]",
      "text/plain": [
       "<matplotlib.figure.Figure at 0x121dc8e48>"
      ]
     },
     "metadata": {},
     "output_type": "display_data"
    }
   ],
   "source": [
    "plt.figure(figsize=(12,6))\n",
    "plt.xlabel('Learning rate')\n",
    "\n",
    "plt.ylabel('Test accuracy')\n",
    "\n",
    "plt.grid()\n",
    "plt.plot(learning_rates, accuracy)"
   ]
  },
  {
   "cell_type": "code",
   "execution_count": 69,
   "metadata": {},
   "outputs": [],
   "source": [
    "y_pred_proba = model.predict_proba(X_test)"
   ]
  },
  {
   "cell_type": "code",
   "execution_count": 70,
   "metadata": {},
   "outputs": [
    {
     "data": {
      "text/plain": [
       "array([1.9883703e-06, 1.6656495e-06, 3.0048675e-04, 2.0573678e-04,\n",
       "       5.5151286e-08, 8.7867320e-06, 2.3392634e-09, 9.9946851e-01,\n",
       "       8.4496702e-07, 1.1942857e-05], dtype=float32)"
      ]
     },
     "execution_count": 70,
     "metadata": {},
     "output_type": "execute_result"
    }
   ],
   "source": [
    "y_pred_proba[0]"
   ]
  },
  {
   "cell_type": "code",
   "execution_count": 71,
   "metadata": {},
   "outputs": [
    {
     "data": {
      "text/plain": [
       "<matplotlib.image.AxesImage at 0x11ad39eb8>"
      ]
     },
     "execution_count": 71,
     "metadata": {},
     "output_type": "execute_result"
    },
    {
     "data": {
      "image/png": "[encoded data removed]",
      "text/plain": [
       "<matplotlib.figure.Figure at 0x12353c9e8>"
      ]
     },
     "metadata": {},
     "output_type": "display_data"
    }
   ],
   "source": [
    "plt.imshow(np.reshape(X_test[0], (28,28)))"
   ]
  },
  {
   "cell_type": "code",
   "execution_count": 72,
   "metadata": {},
   "outputs": [],
   "source": [
    "a = (y_pred_proba[0] > 0.5).astype(int)"
   ]
  },
  {
   "cell_type": "code",
   "execution_count": 73,
   "metadata": {},
   "outputs": [
    {
     "data": {
      "text/plain": [
       "array([0, 0, 0, 0, 0, 0, 0, 1, 0, 0])"
      ]
     },
     "execution_count": 73,
     "metadata": {},
     "output_type": "execute_result"
    }
   ],
   "source": [
    "a"
   ]
  },
  {
   "cell_type": "code",
   "execution_count": 74,
   "metadata": {},
   "outputs": [],
   "source": [
    "y_pred = model.predict(X_test)"
   ]
  },
  {
   "cell_type": "code",
   "execution_count": 75,
   "metadata": {},
   "outputs": [
    {
     "data": {
      "text/plain": [
       "array([1.9883703e-06, 1.6656495e-06, 3.0048675e-04, 2.0573678e-04,\n",
       "       5.5151286e-08, 8.7867320e-06, 2.3392634e-09, 9.9946851e-01,\n",
       "       8.4496702e-07, 1.1942857e-05], dtype=float32)"
      ]
     },
     "execution_count": 75,
     "metadata": {},
     "output_type": "execute_result"
    }
   ],
   "source": [
    "y_pred[0]"
   ]
  },
  {
   "cell_type": "code",
   "execution_count": null,
   "metadata": {},
   "outputs": [],
   "source": [
    "y"
   ]
  }
 ],
 "metadata": {
  "kernelspec": {
   "display_name": "Python 3",
   "language": "python",
   "name": "python3"
  },
  "language_info": {
   "codemirror_mode": {
    "name": "ipython",
    "version": 3
   },
   "file_extension": ".py",
   "mimetype": "text/x-python",
   "name": "python",
   "nbconvert_exporter": "python",
   "pygments_lexer": "ipython3",
   "version": "3.5.4"
  }
 },
 "nbformat": 4,
 "nbformat_minor": 2
}
